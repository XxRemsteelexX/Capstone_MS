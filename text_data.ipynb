{
 "cells": [
  {
   "cell_type": "code",
   "execution_count": 1,
   "id": "3b035a61-2adb-4720-ab1a-132e4c5b2fb3",
   "metadata": {},
   "outputs": [],
   "source": [
    "import random\n",
    "import pandas as pd"
   ]
  },
  {
   "cell_type": "code",
   "execution_count": 2,
   "id": "e075a427-5a4f-482c-a4f9-978ef6f7f123",
   "metadata": {},
   "outputs": [],
   "source": [
    "\n",
    "\n",
    "# Define example symptoms for each category\n",
    "urgent_care_symptoms = [\n",
    "    \"Mild rash with itching\", \"Sore throat for 3 days\", \"Earache and slight fever\", \"Red eye with discharge\",\n",
    "    \"Low-grade fever and headache\", \"Minor burn on hand\", \"Cut on finger, bleeding controlled\", \"Sinus congestion\",\n",
    "    \"Mild allergic reaction\", \"Muscle strain in back\", \"Nausea and vomiting for 1 day\", \"Cough and nasal congestion\",\n",
    "    \"Painful urination\", \"Swollen ankle, no deformity\", \"Skin infection on arm\", \"Bug bite swelling\",\n",
    "    \"Bruised knee from fall\", \"Blister from shoe\", \"Scalp tenderness\", \"Toothache and gum swelling\"\n",
    "]\n",
    "\n",
    "er_symptoms = [\n",
    "    \"Chest pain and shortness of breath\", \"Severe abdominal pain\", \"Fever of 105°F\", \"Head trauma from fall\",\n",
    "    \"Seizure episode\", \"Uncontrolled bleeding\", \"Difficulty breathing\", \"Loss of consciousness\",\n",
    "    \"Suspected stroke symptoms\", \"Severe allergic reaction\", \"Compound fracture\", \"Severe burn on arm\",\n",
    "    \"Intense migraine with vomiting\", \"Sudden confusion\", \"Vision loss in one eye\", \"Severe dehydration\",\n",
    "    \"Gunshot wound\", \"Broken leg with deformity\", \"Heart palpitations and dizziness\", \"Suicidal thoughts\"\n",
    "]"
   ]
  },
  {
   "cell_type": "code",
   "execution_count": 3,
   "id": "8af285b3-8eb0-4ffe-92c6-4f04c6c0f62c",
   "metadata": {},
   "outputs": [],
   "source": [
    "\n",
    "\n",
    "# Function to create varied natural-sounding patient phrasing\n",
    "def generate_variants(base, label, n=25):\n",
    "    variants = []\n",
    "    for _ in range(n):\n",
    "        symptom = random.choice(base)\n",
    "        intro = random.choice([\n",
    "            \"I'm experiencing\", \"I've got\", \"I have\", \"My child has\", \"Feeling like\", \"Dealing with\",\n",
    "            \"Noticed\", \"Started having\"\n",
    "        ])\n",
    "        suffix = random.choice([\n",
    "            \"\", \"since yesterday\", \"for a couple of hours\", \"and it's getting worse\", \"and it's painful\",\n",
    "            \"and it just started\", \"and I'm not sure what to do\", \"should I go to a doctor?\"\n",
    "        ])\n",
    "        sentence = f\"{intro} {symptom.lower()} {suffix}\".strip()\n",
    "        variants.append({\"text\": sentence, \"label\": label})\n",
    "    return variants"
   ]
  },
  {
   "cell_type": "code",
   "execution_count": 4,
   "id": "cba6bf87-800e-4414-86ea-370b56689789",
   "metadata": {},
   "outputs": [],
   "source": [
    "\n",
    "# Generate 250 from each class\n",
    "uc_data = generate_variants(urgent_care_symptoms, \"Urgent Care\", n=25)\n",
    "er_data = generate_variants(er_symptoms, \"ER\", n=25)\n",
    "\n",
    "# Multiply to reach 500 (20 variants * 25 = 500)\n",
    "for i in range(4):\n",
    "    uc_data.extend(generate_variants(urgent_care_symptoms, \"Urgent Care\", n=25))\n",
    "    er_data.extend(generate_variants(er_symptoms, \"ER\", n=25))\n",
    "\n",
    "# Combine and shuffle\n",
    "all_data = uc_data + er_data\n",
    "random.shuffle(all_data)\n",
    "\n",
    "# Convert to DataFrame\n",
    "df = pd.DataFrame(all_data)\n",
    "\n",
    "\n"
   ]
  },
  {
   "cell_type": "code",
   "execution_count": 7,
   "id": "db4d1f4d-a3bb-4aaa-9f84-2c4be11fc6b7",
   "metadata": {},
   "outputs": [
    {
     "data": {
      "text/plain": [
       "(250, 2)"
      ]
     },
     "execution_count": 7,
     "metadata": {},
     "output_type": "execute_result"
    }
   ],
   "source": [
    "\n",
    "\n",
    "df.shape       # Show total rows and columns\n",
    "\n"
   ]
  },
  {
   "cell_type": "code",
   "execution_count": 8,
   "id": "73225ce6-c769-498b-bda4-ba5e31d49b75",
   "metadata": {},
   "outputs": [
    {
     "data": {
      "text/html": [
       "<div>\n",
       "<style scoped>\n",
       "    .dataframe tbody tr th:only-of-type {\n",
       "        vertical-align: middle;\n",
       "    }\n",
       "\n",
       "    .dataframe tbody tr th {\n",
       "        vertical-align: top;\n",
       "    }\n",
       "\n",
       "    .dataframe thead th {\n",
       "        text-align: right;\n",
       "    }\n",
       "</style>\n",
       "<table border=\"1\" class=\"dataframe\">\n",
       "  <thead>\n",
       "    <tr style=\"text-align: right;\">\n",
       "      <th></th>\n",
       "      <th>text</th>\n",
       "      <th>label</th>\n",
       "    </tr>\n",
       "  </thead>\n",
       "  <tbody>\n",
       "    <tr>\n",
       "      <th>245</th>\n",
       "      <td>Noticed low-grade fever and headache and it's ...</td>\n",
       "      <td>Urgent Care</td>\n",
       "    </tr>\n",
       "    <tr>\n",
       "      <th>246</th>\n",
       "      <td>I'm experiencing sinus congestion and it just ...</td>\n",
       "      <td>Urgent Care</td>\n",
       "    </tr>\n",
       "    <tr>\n",
       "      <th>247</th>\n",
       "      <td>Feeling like swollen ankle, no deformity and i...</td>\n",
       "      <td>Urgent Care</td>\n",
       "    </tr>\n",
       "    <tr>\n",
       "      <th>248</th>\n",
       "      <td>Dealing with toothache and gum swelling and it...</td>\n",
       "      <td>Urgent Care</td>\n",
       "    </tr>\n",
       "    <tr>\n",
       "      <th>249</th>\n",
       "      <td>My child has sudden confusion and I'm not sure...</td>\n",
       "      <td>ER</td>\n",
       "    </tr>\n",
       "  </tbody>\n",
       "</table>\n",
       "</div>"
      ],
      "text/plain": [
       "                                                  text        label\n",
       "245  Noticed low-grade fever and headache and it's ...  Urgent Care\n",
       "246  I'm experiencing sinus congestion and it just ...  Urgent Care\n",
       "247  Feeling like swollen ankle, no deformity and i...  Urgent Care\n",
       "248  Dealing with toothache and gum swelling and it...  Urgent Care\n",
       "249  My child has sudden confusion and I'm not sure...           ER"
      ]
     },
     "execution_count": 8,
     "metadata": {},
     "output_type": "execute_result"
    }
   ],
   "source": [
    "df.tail()      # Last few rows"
   ]
  },
  {
   "cell_type": "code",
   "execution_count": 9,
   "id": "f91392a8-4512-4271-a3b1-2ef90261da79",
   "metadata": {},
   "outputs": [
    {
     "data": {
      "text/html": [
       "<div>\n",
       "<style scoped>\n",
       "    .dataframe tbody tr th:only-of-type {\n",
       "        vertical-align: middle;\n",
       "    }\n",
       "\n",
       "    .dataframe tbody tr th {\n",
       "        vertical-align: top;\n",
       "    }\n",
       "\n",
       "    .dataframe thead th {\n",
       "        text-align: right;\n",
       "    }\n",
       "</style>\n",
       "<table border=\"1\" class=\"dataframe\">\n",
       "  <thead>\n",
       "    <tr style=\"text-align: right;\">\n",
       "      <th></th>\n",
       "      <th>text</th>\n",
       "      <th>label</th>\n",
       "    </tr>\n",
       "  </thead>\n",
       "  <tbody>\n",
       "    <tr>\n",
       "      <th>12</th>\n",
       "      <td>Dealing with seizure episode and it just started</td>\n",
       "      <td>ER</td>\n",
       "    </tr>\n",
       "    <tr>\n",
       "      <th>171</th>\n",
       "      <td>Dealing with suspected stroke symptoms should ...</td>\n",
       "      <td>ER</td>\n",
       "    </tr>\n",
       "    <tr>\n",
       "      <th>124</th>\n",
       "      <td>Started having low-grade fever and headache si...</td>\n",
       "      <td>Urgent Care</td>\n",
       "    </tr>\n",
       "    <tr>\n",
       "      <th>21</th>\n",
       "      <td>Dealing with fever of 105°f since yesterday</td>\n",
       "      <td>ER</td>\n",
       "    </tr>\n",
       "    <tr>\n",
       "      <th>75</th>\n",
       "      <td>My child has blister from shoe since yesterday</td>\n",
       "      <td>Urgent Care</td>\n",
       "    </tr>\n",
       "    <tr>\n",
       "      <th>4</th>\n",
       "      <td>I'm experiencing severe burn on arm and it's p...</td>\n",
       "      <td>ER</td>\n",
       "    </tr>\n",
       "    <tr>\n",
       "      <th>227</th>\n",
       "      <td>Feeling like severe abdominal pain for a coupl...</td>\n",
       "      <td>ER</td>\n",
       "    </tr>\n",
       "    <tr>\n",
       "      <th>139</th>\n",
       "      <td>My child has compound fracture and it just sta...</td>\n",
       "      <td>ER</td>\n",
       "    </tr>\n",
       "    <tr>\n",
       "      <th>130</th>\n",
       "      <td>Started having sudden confusion since yesterday</td>\n",
       "      <td>ER</td>\n",
       "    </tr>\n",
       "    <tr>\n",
       "      <th>185</th>\n",
       "      <td>I'm experiencing vision loss in one eye since ...</td>\n",
       "      <td>ER</td>\n",
       "    </tr>\n",
       "  </tbody>\n",
       "</table>\n",
       "</div>"
      ],
      "text/plain": [
       "                                                  text        label\n",
       "12    Dealing with seizure episode and it just started           ER\n",
       "171  Dealing with suspected stroke symptoms should ...           ER\n",
       "124  Started having low-grade fever and headache si...  Urgent Care\n",
       "21         Dealing with fever of 105°f since yesterday           ER\n",
       "75      My child has blister from shoe since yesterday  Urgent Care\n",
       "4    I'm experiencing severe burn on arm and it's p...           ER\n",
       "227  Feeling like severe abdominal pain for a coupl...           ER\n",
       "139  My child has compound fracture and it just sta...           ER\n",
       "130    Started having sudden confusion since yesterday           ER\n",
       "185  I'm experiencing vision loss in one eye since ...           ER"
      ]
     },
     "execution_count": 9,
     "metadata": {},
     "output_type": "execute_result"
    }
   ],
   "source": [
    "df.sample(10)  # Random 10"
   ]
  },
  {
   "cell_type": "code",
   "execution_count": 13,
   "id": "3aed624d-8bf6-45d9-9a8d-2277f9a59abb",
   "metadata": {},
   "outputs": [
    {
     "data": {
      "text/plain": [
       "'urgentcare_symptoms_dataset.csv'"
      ]
     },
     "execution_count": 13,
     "metadata": {},
     "output_type": "execute_result"
    }
   ],
   "source": [
    "\n",
    "\n",
    "# Save the DataFrame in the current working directory instead of /mnt/data\n",
    "local_csv_path = \"urgentcare_symptoms_dataset.csv\"\n",
    "df.to_csv(local_csv_path, index=False)\n",
    "\n",
    "local_csv_path"
   ]
  },
  {
   "cell_type": "code",
   "execution_count": null,
   "id": "072a27c0-3d98-4b8c-a82a-245cf437547e",
   "metadata": {},
   "outputs": [],
   "source": []
  },
  {
   "cell_type": "code",
   "execution_count": null,
   "id": "4df0045e-7e6c-46b4-aaee-fc3868f89573",
   "metadata": {},
   "outputs": [],
   "source": []
  },
  {
   "cell_type": "code",
   "execution_count": null,
   "id": "5e04378a-6028-4a83-b709-cd177d84fd1e",
   "metadata": {},
   "outputs": [],
   "source": []
  },
  {
   "cell_type": "code",
   "execution_count": null,
   "id": "8f44b52d-f543-4f78-a244-82b13b40251f",
   "metadata": {},
   "outputs": [],
   "source": []
  },
  {
   "cell_type": "code",
   "execution_count": null,
   "id": "cf801207-1769-4c6e-9abf-272423b1106c",
   "metadata": {},
   "outputs": [],
   "source": []
  },
  {
   "cell_type": "code",
   "execution_count": null,
   "id": "88ae50aa-f57a-4e10-aa14-a172fbdc57d6",
   "metadata": {},
   "outputs": [],
   "source": []
  },
  {
   "cell_type": "code",
   "execution_count": null,
   "id": "2705a940-1b10-4ec3-9cba-ace13fac0604",
   "metadata": {},
   "outputs": [],
   "source": []
  },
  {
   "cell_type": "code",
   "execution_count": null,
   "id": "2e7a8bc1-3dfd-4ee3-b822-d5ab88240824",
   "metadata": {},
   "outputs": [],
   "source": []
  },
  {
   "cell_type": "code",
   "execution_count": null,
   "id": "81dd7bf7-46a1-4bd3-8a84-7a87e7c700f0",
   "metadata": {},
   "outputs": [],
   "source": []
  },
  {
   "cell_type": "code",
   "execution_count": null,
   "id": "524c3aab-580f-43a6-9894-4d77bb9ed9eb",
   "metadata": {},
   "outputs": [],
   "source": []
  },
  {
   "cell_type": "code",
   "execution_count": null,
   "id": "f456a09c-f627-4560-a544-d4381c3c07c0",
   "metadata": {},
   "outputs": [],
   "source": []
  },
  {
   "cell_type": "code",
   "execution_count": null,
   "id": "dfad1415-76b4-4d4c-8d9d-eeae7d155628",
   "metadata": {},
   "outputs": [],
   "source": []
  },
  {
   "cell_type": "code",
   "execution_count": null,
   "id": "faf19e32-0b50-4473-ad8d-92a1871f2e55",
   "metadata": {},
   "outputs": [],
   "source": []
  },
  {
   "cell_type": "code",
   "execution_count": null,
   "id": "377cef20-6651-488a-b8c8-9574ece4544e",
   "metadata": {},
   "outputs": [],
   "source": []
  },
  {
   "cell_type": "code",
   "execution_count": null,
   "id": "90032f1e-a750-45ea-a54e-fc48a76fe37f",
   "metadata": {},
   "outputs": [],
   "source": []
  },
  {
   "cell_type": "code",
   "execution_count": null,
   "id": "bfd80d00-f542-4158-a80a-46bd70a8ac5e",
   "metadata": {},
   "outputs": [],
   "source": []
  },
  {
   "cell_type": "code",
   "execution_count": null,
   "id": "68eed3bc-ffed-4787-928c-84d721345d16",
   "metadata": {},
   "outputs": [],
   "source": []
  },
  {
   "cell_type": "code",
   "execution_count": null,
   "id": "c2214db7-5ee6-4b02-9192-fda3840473bd",
   "metadata": {},
   "outputs": [],
   "source": []
  },
  {
   "cell_type": "code",
   "execution_count": null,
   "id": "df2d0502-1340-4580-ad66-4258b35305fc",
   "metadata": {},
   "outputs": [],
   "source": []
  },
  {
   "cell_type": "code",
   "execution_count": null,
   "id": "7ebd086d-b63d-4868-b899-11765f7e1d37",
   "metadata": {},
   "outputs": [],
   "source": []
  }
 ],
 "metadata": {
  "kernelspec": {
   "display_name": "Python 3 (ipykernel)",
   "language": "python",
   "name": "python3"
  },
  "language_info": {
   "codemirror_mode": {
    "name": "ipython",
    "version": 3
   },
   "file_extension": ".py",
   "mimetype": "text/x-python",
   "name": "python",
   "nbconvert_exporter": "python",
   "pygments_lexer": "ipython3",
   "version": "3.11.13"
  }
 },
 "nbformat": 4,
 "nbformat_minor": 5
}
