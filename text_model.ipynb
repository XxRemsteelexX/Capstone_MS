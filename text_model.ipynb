{
 "cells": [
  {
   "cell_type": "code",
   "execution_count": 1,
   "id": "7b450f5b-41a0-4989-b0af-fde553fc4c5e",
   "metadata": {},
   "outputs": [],
   "source": [
    "\n",
    "# Symptom Classifier using DistilBERT\n",
    "\n",
    "from datasets import Dataset\n",
    "from transformers import (\n",
    "    AutoTokenizer, \n",
    "    AutoModelForSequenceClassification,\n",
    "    TrainingArguments, \n",
    "    Trainer\n",
    ")\n",
    "from sklearn.model_selection import train_test_split\n",
    "import pandas as pd\n",
    "import numpy as np\n",
    "import torch\n",
    "import evaluate"
   ]
  },
  {
   "cell_type": "code",
   "execution_count": 2,
   "id": "a1f0dc55-439e-421e-9b4c-1f37ca0f741b",
   "metadata": {},
   "outputs": [
    {
     "name": "stdout",
     "output_type": "stream",
     "text": [
      "Dataset shape: (250, 2)\n",
      "Columns: ['text', 'label']\n",
      "Sample data:\n",
      "                                                text        label\n",
      "0  Feeling like compound fracture for a couple of...           ER\n",
      "1  I'm experiencing nausea and vomiting for 1 day...  Urgent Care\n",
      "2  Started having nausea and vomiting for 1 day a...  Urgent Care\n",
      "3    Noticed bruised knee from fall and it's painful  Urgent Care\n",
      "4  I'm experiencing severe burn on arm and it's p...           ER\n",
      "\n",
      "Label distribution:\n",
      "label\n",
      "ER             125\n",
      "Urgent Care    125\n",
      "Name: count, dtype: int64\n"
     ]
    }
   ],
   "source": [
    "# Load and prepare data\n",
    "df = pd.read_csv(\"urgentcare_symptoms_dataset.csv\")\n",
    "print(\"Dataset shape:\", df.shape)\n",
    "print(\"Columns:\", df.columns.tolist())\n",
    "print(\"Sample data:\")\n",
    "print(df.head())\n",
    "print(\"\\nLabel distribution:\")\n",
    "print(df['label'].value_counts())\n",
    "\n"
   ]
  },
  {
   "cell_type": "code",
   "execution_count": 3,
   "id": "38ae01aa-3601-4603-9b99-2dd7a0b41d03",
   "metadata": {},
   "outputs": [
    {
     "name": "stdout",
     "output_type": "stream",
     "text": [
      "Index(['text', 'label'], dtype='object')\n"
     ]
    }
   ],
   "source": [
    "print(df.columns)\n"
   ]
  },
  {
   "cell_type": "code",
   "execution_count": 4,
   "id": "76a97f9c-4cb8-44ec-9053-b3b07d83f9de",
   "metadata": {},
   "outputs": [
    {
     "name": "stdout",
     "output_type": "stream",
     "text": [
      "\n",
      "Label mapping:\n",
      "  ER -> 0\n",
      "  Urgent Care -> 1\n",
      "\n",
      "Label ID range: 0 to 1\n",
      "Sample with encoded labels:\n",
      "                                                text        label  label_id\n",
      "0  Feeling like compound fracture for a couple of...           ER         0\n",
      "1  I'm experiencing nausea and vomiting for 1 day...  Urgent Care         1\n",
      "2  Started having nausea and vomiting for 1 day a...  Urgent Care         1\n",
      "3    Noticed bruised knee from fall and it's painful  Urgent Care         1\n",
      "4  I'm experiencing severe burn on arm and it's p...           ER         0\n"
     ]
    }
   ],
   "source": [
    "unique_labels = sorted(df['label'].unique())\n",
    "label2id = {label: i for i, label in enumerate(unique_labels)}\n",
    "id2label = {v: k for k, v in label2id.items()}\n",
    "\n",
    "print(f\"\\nLabel mapping:\")\n",
    "for label, idx in label2id.items():\n",
    "    print(f\"  {label} -> {idx}\")\n",
    "\n",
    "# Apply label encoding\n",
    "df['label_id'] = df['label'].map(label2id)\n",
    "\n",
    "# Verify label encoding\n",
    "print(f\"\\nLabel ID range: {df['label_id'].min()} to {df['label_id'].max()}\")\n",
    "print(\"Sample with encoded labels:\")\n",
    "print(df[['text', 'label', 'label_id']].head())"
   ]
  },
  {
   "cell_type": "code",
   "execution_count": 5,
   "id": "a226e57e-ba60-472e-bcc4-5c7a55b07b78",
   "metadata": {},
   "outputs": [
    {
     "name": "stdout",
     "output_type": "stream",
     "text": [
      "\n",
      "Train set size: 200\n",
      "Test set size: 50\n",
      "\n",
      "Dataset train features: {'text': Value('string'), 'labels': Value('int64'), '__index_level_0__': Value('int64')}\n",
      "Dataset test features: {'text': Value('string'), 'labels': Value('int64'), '__index_level_0__': Value('int64')}\n"
     ]
    }
   ],
   "source": [
    "# Split data with stratification\n",
    "df_train, df_test = train_test_split(\n",
    "    df, \n",
    "    test_size=0.2, \n",
    "    random_state=42, \n",
    "    stratify=df['label']  # Ensure balanced splits\n",
    ")\n",
    "\n",
    "print(f\"\\nTrain set size: {len(df_train)}\")\n",
    "print(f\"Test set size: {len(df_test)}\")\n",
    "\n",
    "# Create datasets with only necessary columns\n",
    "train_data = df_train[['text', 'label_id']].copy()\n",
    "test_data = df_test[['text', 'label_id']].copy()\n",
    "\n",
    "# Rename label_id to labels for transformers\n",
    "train_data = train_data.rename(columns={'label_id': 'labels'})\n",
    "test_data = test_data.rename(columns={'label_id': 'labels'})\n",
    "\n",
    "# Convert to HuggingFace datasets\n",
    "dataset_train = Dataset.from_pandas(train_data)\n",
    "dataset_test = Dataset.from_pandas(test_data)\n",
    "\n",
    "print(f\"\\nDataset train features: {dataset_train.features}\")\n",
    "print(f\"Dataset test features: {dataset_test.features}\")\n"
   ]
  },
  {
   "cell_type": "code",
   "execution_count": 6,
   "id": "68934285-93ec-487b-9f0f-c3a4f7bdb203",
   "metadata": {},
   "outputs": [],
   "source": [
    "# Initialize tokenizer\n",
    "tokenizer = AutoTokenizer.from_pretrained(\"distilbert-base-uncased\")\n",
    "\n",
    "# Add padding token if not present\n",
    "if tokenizer.pad_token is None:\n",
    "    tokenizer.pad_token = tokenizer.eos_token"
   ]
  },
  {
   "cell_type": "code",
   "execution_count": 7,
   "id": "4c4c42fa-d068-4439-8c72-df3861ee294a",
   "metadata": {},
   "outputs": [
    {
     "name": "stdout",
     "output_type": "stream",
     "text": [
      "\n",
      "Tokenizing datasets...\n"
     ]
    },
    {
     "data": {
      "application/vnd.jupyter.widget-view+json": {
       "model_id": "f4bdb1879e1245359ca1684e19040b90",
       "version_major": 2,
       "version_minor": 0
      },
      "text/plain": [
       "Map:   0%|          | 0/200 [00:00<?, ? examples/s]"
      ]
     },
     "metadata": {},
     "output_type": "display_data"
    },
    {
     "data": {
      "application/vnd.jupyter.widget-view+json": {
       "model_id": "0ee7f5be3ed145f6a794a101a75b35c0",
       "version_major": 2,
       "version_minor": 0
      },
      "text/plain": [
       "Map:   0%|          | 0/50 [00:00<?, ? examples/s]"
      ]
     },
     "metadata": {},
     "output_type": "display_data"
    },
    {
     "name": "stdout",
     "output_type": "stream",
     "text": [
      "Final train dataset features: {'labels': Value('int64'), '__index_level_0__': Value('int64'), 'input_ids': List(Value('int32')), 'attention_mask': List(Value('int8'))}\n",
      "Final test dataset features: {'labels': Value('int64'), '__index_level_0__': Value('int64'), 'input_ids': List(Value('int32')), 'attention_mask': List(Value('int8'))}\n"
     ]
    }
   ],
   "source": [
    "def tokenize_function(examples):\n",
    "    \"\"\"Tokenize the text with proper padding and truncation\"\"\"\n",
    "    return tokenizer(\n",
    "        examples[\"text\"], \n",
    "        truncation=True, \n",
    "        padding=True, \n",
    "        max_length=512,\n",
    "        return_tensors=None  # Don't convert to tensors here\n",
    "    )\n",
    "\n",
    "# Apply tokenization\n",
    "print(\"\\nTokenizing datasets...\")\n",
    "dataset_train = dataset_train.map(tokenize_function, batched=True)\n",
    "dataset_test = dataset_test.map(tokenize_function, batched=True)\n",
    "\n",
    "# Remove unnecessary columns and set format\n",
    "dataset_train = dataset_train.remove_columns(['text'])\n",
    "dataset_test = dataset_test.remove_columns(['text'])\n",
    "\n",
    "print(f\"Final train dataset features: {dataset_train.features}\")\n",
    "print(f\"Final test dataset features: {dataset_test.features}\")\n"
   ]
  },
  {
   "cell_type": "code",
   "execution_count": 8,
   "id": "c7cc929e-c48f-4c00-9116-5bb7acbddfa6",
   "metadata": {},
   "outputs": [
    {
     "name": "stderr",
     "output_type": "stream",
     "text": [
      "Some weights of DistilBertForSequenceClassification were not initialized from the model checkpoint at distilbert-base-uncased and are newly initialized: ['classifier.bias', 'classifier.weight', 'pre_classifier.bias', 'pre_classifier.weight']\n",
      "You should probably TRAIN this model on a down-stream task to be able to use it for predictions and inference.\n"
     ]
    },
    {
     "name": "stdout",
     "output_type": "stream",
     "text": [
      "\n",
      "Loading model with 2 classes...\n"
     ]
    }
   ],
   "source": [
    "# Load model\n",
    "print(f\"\\nLoading model with {len(label2id)} classes...\")\n",
    "model = AutoModelForSequenceClassification.from_pretrained(\n",
    "    \"distilbert-base-uncased\",\n",
    "    num_labels=len(label2id),\n",
    "    id2label=id2label,\n",
    "    label2id=label2id\n",
    ")"
   ]
  },
  {
   "cell_type": "code",
   "execution_count": 9,
   "id": "55070cf1-c759-4177-8f67-78311c134d2c",
   "metadata": {},
   "outputs": [],
   "source": [
    "# Load accuracy metric\n",
    "accuracy_metric = evaluate.load(\"accuracy\")\n",
    "\n",
    "def compute_metrics(eval_pred):\n",
    "    \"\"\"Compute accuracy metrics\"\"\"\n",
    "    predictions, labels = eval_pred\n",
    "    predictions = np.argmax(predictions, axis=1)\n",
    "    return accuracy_metric.compute(predictions=predictions, references=labels)\n"
   ]
  },
  {
   "cell_type": "code",
   "execution_count": 10,
   "id": "3d02ce11-d28a-4365-bed3-eef624cecb7d",
   "metadata": {},
   "outputs": [
    {
     "name": "stdout",
     "output_type": "stream",
     "text": [
      "\n",
      "Starting training...\n"
     ]
    },
    {
     "data": {
      "text/html": [
       "\n",
       "    <div>\n",
       "      \n",
       "      <progress value='75' max='75' style='width:300px; height:20px; vertical-align: middle;'></progress>\n",
       "      [75/75 00:02, Epoch 3/3]\n",
       "    </div>\n",
       "    <table border=\"1\" class=\"dataframe\">\n",
       "  <thead>\n",
       " <tr style=\"text-align: left;\">\n",
       "      <th>Epoch</th>\n",
       "      <th>Training Loss</th>\n",
       "      <th>Validation Loss</th>\n",
       "      <th>Accuracy</th>\n",
       "    </tr>\n",
       "  </thead>\n",
       "  <tbody>\n",
       "    <tr>\n",
       "      <td>1</td>\n",
       "      <td>0.692900</td>\n",
       "      <td>0.690459</td>\n",
       "      <td>0.560000</td>\n",
       "    </tr>\n",
       "    <tr>\n",
       "      <td>2</td>\n",
       "      <td>0.682600</td>\n",
       "      <td>0.661152</td>\n",
       "      <td>0.780000</td>\n",
       "    </tr>\n",
       "    <tr>\n",
       "      <td>3</td>\n",
       "      <td>0.620100</td>\n",
       "      <td>0.516841</td>\n",
       "      <td>0.880000</td>\n",
       "    </tr>\n",
       "  </tbody>\n",
       "</table><p>"
      ],
      "text/plain": [
       "<IPython.core.display.HTML object>"
      ]
     },
     "metadata": {},
     "output_type": "display_data"
    },
    {
     "name": "stdout",
     "output_type": "stream",
     "text": [
      "\n",
      "Training completed!\n",
      "Training loss: 0.6642\n",
      "\n",
      "Evaluating model...\n"
     ]
    },
    {
     "data": {
      "text/html": [
       "\n",
       "    <div>\n",
       "      \n",
       "      <progress value='7' max='7' style='width:300px; height:20px; vertical-align: middle;'></progress>\n",
       "      [7/7 00:00]\n",
       "    </div>\n",
       "    "
      ],
      "text/plain": [
       "<IPython.core.display.HTML object>"
      ]
     },
     "metadata": {},
     "output_type": "display_data"
    },
    {
     "name": "stdout",
     "output_type": "stream",
     "text": [
      "Evaluation results:\n",
      "  eval_loss: 0.5168\n",
      "  eval_accuracy: 0.8800\n",
      "  eval_runtime: 0.0221\n",
      "  eval_samples_per_second: 2265.7220\n",
      "  eval_steps_per_second: 317.2010\n",
      "  epoch: 3.0000\n",
      "\n",
      "Saving model...\n",
      "Model saved successfully!\n",
      "\n",
      "Testing predictions:\n",
      "\n",
      "Text: 'I have a severe headache and feel nauseous'\n",
      "Predicted: ER (confidence: 0.589)\n",
      "Top 3 scores:\n",
      "  ER: 0.589\n",
      "  Urgent Care: 0.411\n",
      "\n",
      "Text: 'My chest hurts and I'm having trouble breathing'\n",
      "Predicted: ER (confidence: 0.599)\n",
      "Top 3 scores:\n",
      "  ER: 0.599\n",
      "  Urgent Care: 0.401\n",
      "\n",
      "Text: 'I fell and my ankle is swollen and painful'\n",
      "Predicted: Urgent Care (confidence: 0.523)\n",
      "Top 3 scores:\n",
      "  Urgent Care: 0.523\n",
      "  ER: 0.477\n"
     ]
    }
   ],
   "source": [
    "# Define training arguments\n",
    "training_args = TrainingArguments(\n",
    "    output_dir=\"./results\",\n",
    "    eval_strategy=\"epoch\",\n",
    "    save_strategy=\"epoch\",\n",
    "    logging_dir=\"./logs\",\n",
    "    per_device_train_batch_size=8,\n",
    "    per_device_eval_batch_size=8,\n",
    "    num_train_epochs=3,  # Reduced for faster training\n",
    "    weight_decay=0.01,\n",
    "    logging_steps=10,\n",
    "    load_best_model_at_end=True,\n",
    "    metric_for_best_model=\"accuracy\",\n",
    "    greater_is_better=True,\n",
    "    report_to=\"none\",  # Disable wandb/tensorboard\n",
    "    save_total_limit=2,  # Only keep 2 best models\n",
    "    warmup_steps=100,\n",
    "    learning_rate=2e-5,\n",
    "    fp16=torch.cuda.is_available(),  # Use mixed precision if GPU available\n",
    ")\n",
    "\n",
    "# Initialize trainer\n",
    "trainer = Trainer(\n",
    "    model=model,\n",
    "    args=training_args,\n",
    "    train_dataset=dataset_train,\n",
    "    eval_dataset=dataset_test,\n",
    "    compute_metrics=compute_metrics,\n",
    "    processing_class=tokenizer,  # Use processing_class instead of deprecated tokenizer\n",
    ")\n",
    "\n",
    "print(\"\\nStarting training...\")\n",
    "try:\n",
    "    # Train the model\n",
    "    train_result = trainer.train()\n",
    "    \n",
    "    print(f\"\\nTraining completed!\")\n",
    "    print(f\"Training loss: {train_result.training_loss:.4f}\")\n",
    "    \n",
    "    # Evaluate the model\n",
    "    print(\"\\nEvaluating model...\")\n",
    "    eval_result = trainer.evaluate()\n",
    "    \n",
    "    print(f\"Evaluation results:\")\n",
    "    for key, value in eval_result.items():\n",
    "        print(f\"  {key}: {value:.4f}\")\n",
    "    \n",
    "    # Save the model\n",
    "    print(\"\\nSaving model...\")\n",
    "    trainer.save_model(\"./symptom_classifier_model\")\n",
    "    tokenizer.save_pretrained(\"./symptom_classifier_model\")\n",
    "    \n",
    "    # Save label mappings\n",
    "    import json\n",
    "    with open(\"./symptom_classifier_model/label_mappings.json\", \"w\") as f:\n",
    "        json.dump({\n",
    "            \"label2id\": label2id,\n",
    "            \"id2label\": id2label\n",
    "        }, f, indent=2)\n",
    "    \n",
    "    print(\"Model saved successfully!\")\n",
    "    \n",
    "    # Test prediction function\n",
    "    def predict_symptom(text):\n",
    "        \"\"\"Test prediction on new text\"\"\"\n",
    "        inputs = tokenizer(text, return_tensors=\"pt\", truncation=True, padding=True, max_length=512)\n",
    "        # Move inputs to GPU\n",
    "        inputs = {k: v.to('cuda') for k, v in inputs.items()}\n",
    "        \n",
    "        with torch.no_grad():\n",
    "            outputs = model(**inputs)\n",
    "            predictions = torch.nn.functional.softmax(outputs.logits, dim=-1)\n",
    "            predicted_class = torch.argmax(predictions, dim=-1).item()\n",
    "            confidence = predictions.max().item()\n",
    "            \n",
    "        return {\n",
    "            \"predicted_label\": id2label[predicted_class],\n",
    "            \"confidence\": confidence,\n",
    "            \"all_scores\": {id2label[i]: score.item() for i, score in enumerate(predictions[0])}\n",
    "        }\n",
    "    \n",
    "    # Test with sample texts\n",
    "    print(\"\\nTesting predictions:\")\n",
    "    test_texts = [\n",
    "        \"I have a severe headache and feel nauseous\",\n",
    "        \"My chest hurts and I'm having trouble breathing\",\n",
    "        \"I fell and my ankle is swollen and painful\"\n",
    "    ]\n",
    "    \n",
    "    for text in test_texts:\n",
    "        result = predict_symptom(text)\n",
    "        print(f\"\\nText: '{text}'\")\n",
    "        print(f\"Predicted: {result['predicted_label']} (confidence: {result['confidence']:.3f})\")\n",
    "        print(\"Top 3 scores:\")\n",
    "        sorted_scores = sorted(result['all_scores'].items(), key=lambda x: x[1], reverse=True)[:3]\n",
    "        for label, score in sorted_scores:\n",
    "            print(f\"  {label}: {score:.3f}\")\n",
    "\n",
    "except Exception as e:\n",
    "    print(f\"Error during training: {str(e)}\")\n",
    "    print(f\"Error type: {type(e).__name__}\")\n",
    "    \n",
    "    # Debug information\n",
    "    print(\"\\nDebug information:\")\n",
    "    print(f\"Train dataset sample: {dataset_train[0]}\")\n",
    "    print(f\"Labels type: {type(dataset_train[0]['labels'])}\")\n",
    "    print(f\"Labels value: {dataset_train[0]['labels']}\")"
   ]
  },
  {
   "cell_type": "code",
   "execution_count": null,
   "id": "639b7804-9a21-43a6-bae2-630f5981704b",
   "metadata": {},
   "outputs": [],
   "source": []
  },
  {
   "cell_type": "code",
   "execution_count": null,
   "id": "0bb801fd-44bc-4104-aade-e0037525cb6a",
   "metadata": {},
   "outputs": [],
   "source": []
  },
  {
   "cell_type": "code",
   "execution_count": null,
   "id": "b0c59ee3-c6a7-4b7f-b5c9-f5db7b696c5e",
   "metadata": {},
   "outputs": [],
   "source": []
  },
  {
   "cell_type": "code",
   "execution_count": null,
   "id": "b91f9724-d699-4aa9-98bf-7e2f651ab8b0",
   "metadata": {},
   "outputs": [],
   "source": []
  },
  {
   "cell_type": "code",
   "execution_count": null,
   "id": "bedc429f-5f14-4a8a-9e54-cf702d69ddb1",
   "metadata": {},
   "outputs": [],
   "source": []
  },
  {
   "cell_type": "code",
   "execution_count": null,
   "id": "dbdec77b-af19-4753-9025-1be88814006c",
   "metadata": {},
   "outputs": [],
   "source": []
  }
 ],
 "metadata": {
  "kernelspec": {
   "display_name": "Python 3 (ipykernel)",
   "language": "python",
   "name": "python3"
  },
  "language_info": {
   "codemirror_mode": {
    "name": "ipython",
    "version": 3
   },
   "file_extension": ".py",
   "mimetype": "text/x-python",
   "name": "python",
   "nbconvert_exporter": "python",
   "pygments_lexer": "ipython3",
   "version": "3.11.13"
  }
 },
 "nbformat": 4,
 "nbformat_minor": 5
}
