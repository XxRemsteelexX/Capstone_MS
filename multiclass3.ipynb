{
 "cells": [
  {
   "cell_type": "code",
   "execution_count": 1,
   "id": "f766de66-8f40-4eea-821e-9cbae77c7425",
   "metadata": {},
   "outputs": [],
   "source": [
    "# MODEL 2: TRANSFER LEARNING WITH EFFICIENTNET\n",
    "import pandas as pd\n",
    "import numpy as np\n",
    "from sklearn.model_selection import train_test_split\n",
    "from sklearn.utils.class_weight import compute_class_weight\n",
    "from tensorflow.keras.preprocessing.image import ImageDataGenerator\n",
    "from tensorflow.keras import layers, models, optimizers\n",
    "from tensorflow.keras.callbacks import EarlyStopping, ReduceLROnPlateau, ModelCheckpoint\n",
    "import tensorflow as tf\n",
    "from tensorflow.keras.applications import EfficientNetB0\n",
    "import matplotlib.pyplot as plt\n",
    "# Load data\n",
    "df = pd.read_csv(\"urgent_care_images_master_final.csv\")"
   ]
  },
  {
   "cell_type": "code",
   "execution_count": 2,
   "id": "c8b2534c-5d88-4b45-b468-7a166d94321d",
   "metadata": {},
   "outputs": [
    {
     "name": "stdout",
     "output_type": "stream",
     "text": [
      "Train: (6084, 2)\n",
      "Val: (1304, 2)\n",
      "Test: (1304, 2)\n",
      "Number of classes: 8\n",
      "Classes: ['burn_1and2', 'burn_3rd', 'wound_abrasions', 'wound_bruises', 'wound_diabetic_wounds', 'wound_laceration', 'wound_pressure_wounds', 'wound_venous_wounds']\n",
      "Clean class weights: {0: 0.22282449457954878, 1: 0.8431263858093127, 2: 4.370689655172414, 3: 2.9823529411764707, 4: 2.3472222222222223, 5: 3.0542168674698793, 6: 1.8064133016627077, 7: 2.197976878612717}\n"
     ]
    }
   ],
   "source": [
    "# Create train/val/test splits and define variables\n",
    "from sklearn.model_selection import train_test_split\n",
    "\n",
    "# Stratified split\n",
    "train_df, temp_df = train_test_split(\n",
    "    df, test_size=0.3, stratify=df['label'], random_state=42\n",
    ")\n",
    "val_df, test_df = train_test_split(\n",
    "    temp_df, test_size=0.5, stratify=temp_df['label'], random_state=42\n",
    ")\n",
    "\n",
    "print(\"Train:\", train_df.shape)\n",
    "print(\"Val:\", val_df.shape)\n",
    "print(\"Test:\", test_df.shape)\n",
    "\n",
    "# Define missing constants\n",
    "IMG_SIZE = (224, 224)\n",
    "BATCH_SIZE = 32\n",
    "n_classes = len(df['label'].unique())\n",
    "all_classes = sorted(df['label'].unique())\n",
    "\n",
    "print(f\"Number of classes: {n_classes}\")\n",
    "print(\"Classes:\", all_classes)\n",
    "\n",
    "# Calculate clean class weights (avoiding tensor issues)\n",
    "class_weights_array = compute_class_weight(\n",
    "    'balanced',\n",
    "    classes=np.unique(train_df['label']),\n",
    "    y=train_df['label']\n",
    ")\n",
    "\n",
    "# Create clean class weight dictionary with proper Python floats\n",
    "class_weight_dict = {}\n",
    "for i, class_name in enumerate(all_classes):\n",
    "    weight_idx = np.where(np.unique(train_df['label']) == class_name)[0][0]\n",
    "    class_weight_dict[i] = float(class_weights_array[weight_idx])\n",
    "\n",
    "print(\"Clean class weights:\", class_weight_dict)"
   ]
  },
  {
   "cell_type": "code",
   "execution_count": 3,
   "id": "ee45ae60-3d41-4934-9f10-43e8c272b202",
   "metadata": {},
   "outputs": [
    {
     "name": "stdout",
     "output_type": "stream",
     "text": [
      "Train shape: (6084, 2)\n",
      "Val shape: (1304, 2)\n",
      "Test shape: (1304, 2)\n",
      "Number of classes: 8\n",
      "Classes: ['burn_1and2', 'burn_3rd', 'wound_abrasions', 'wound_bruises', 'wound_diabetic_wounds', 'wound_laceration', 'wound_pressure_wounds', 'wound_venous_wounds']\n"
     ]
    }
   ],
   "source": [
    "# Define missing variables from your first model\n",
    "# These should come from your previous work or be defined here\n",
    "\n",
    "# Image size and batch size\n",
    "IMG_SIZE = (224, 224)  # Standard for EfficientNet\n",
    "BATCH_SIZE = 32\n",
    "\n",
    "# Get the data splits (assuming you have these from previous cells)\n",
    "# If you don't have these, you need to run the train_test_split code first\n",
    "print(\"Train shape:\", train_df.shape)\n",
    "print(\"Val shape:\", val_df.shape) \n",
    "print(\"Test shape:\", test_df.shape)\n",
    "\n",
    "# Number of classes\n",
    "n_classes = len(df['label'].unique())\n",
    "print(f\"Number of classes: {n_classes}\")\n",
    "\n",
    "# Also get all_classes and class_weight_dict from previous model\n",
    "all_classes = sorted(df['label'].unique())\n",
    "print(\"Classes:\", all_classes)"
   ]
  },
  {
   "cell_type": "code",
   "execution_count": 4,
   "id": "82a968e4-e51e-4765-b99c-abe3535255ed",
   "metadata": {},
   "outputs": [
    {
     "name": "stdout",
     "output_type": "stream",
     "text": [
      "Found 6084 validated image filenames belonging to 8 classes.\n",
      "Found 1304 validated image filenames belonging to 8 classes.\n",
      "Found 1304 validated image filenames belonging to 8 classes.\n",
      "Data generators for Model 2 created!\n"
     ]
    }
   ],
   "source": [
    "\n",
    "# Create standard data generators for transfer learning\n",
    "#  transfer learning,  conservative augmentation\n",
    "train_datagen = ImageDataGenerator(\n",
    "    rescale=1./255,\n",
    "    rotation_range=20,\n",
    "    width_shift_range=0.15,\n",
    "    height_shift_range=0.15,\n",
    "    zoom_range=0.15,\n",
    "    horizontal_flip=True,\n",
    "    brightness_range=[0.85, 1.15],\n",
    "    fill_mode='nearest'\n",
    ")\n",
    "\n",
    "val_datagen = ImageDataGenerator(rescale=1./255)\n",
    "test_datagen = ImageDataGenerator(rescale=1./255)\n",
    "\n",
    "# Create generators\n",
    "train_gen2 = train_datagen.flow_from_dataframe(\n",
    "    train_df, x_col='filepath', y_col='label',  # Correct column name\n",
    "    target_size=IMG_SIZE, batch_size=BATCH_SIZE,\n",
    "    class_mode='categorical', shuffle=True,\n",
    "    classes=all_classes  # Ensure consistent class ordering\n",
    ")\n",
    "\n",
    "val_gen2 = val_datagen.flow_from_dataframe(\n",
    "    val_df, x_col='filepath', y_col='label',  # Correct column name\n",
    "    target_size=IMG_SIZE, batch_size=BATCH_SIZE,\n",
    "    class_mode='categorical', shuffle=False,\n",
    "    classes=all_classes\n",
    ")\n",
    "\n",
    "test_gen2 = test_datagen.flow_from_dataframe(\n",
    "    test_df, x_col='filepath', y_col='label',  # Correct column name\n",
    "    target_size=IMG_SIZE, batch_size=BATCH_SIZE,\n",
    "    class_mode='categorical', shuffle=False,\n",
    "    classes=all_classes\n",
    ")\n",
    "\n",
    "print(\"Data generators for Model 2 created!\")"
   ]
  },
  {
   "cell_type": "code",
   "execution_count": 5,
   "id": "6c198a7d-c0a5-4985-bbfd-5389a1b46c2a",
   "metadata": {},
   "outputs": [
    {
     "name": "stdout",
     "output_type": "stream",
     "text": [
      "EfficientNet model structure:\n",
      "Model: \"sequential\"\n",
      "_________________________________________________________________\n",
      " Layer (type)                Output Shape              Param #   \n",
      "=================================================================\n",
      " efficientnetb0 (Functional)  (None, 7, 7, 1280)       4049571   \n",
      "                                                                 \n",
      " global_average_pooling2d (G  (None, 1280)             0         \n",
      " lobalAveragePooling2D)                                          \n",
      "                                                                 \n",
      " batch_normalization (BatchN  (None, 1280)             5120      \n",
      " ormalization)                                                   \n",
      "                                                                 \n",
      " dropout (Dropout)           (None, 1280)              0         \n",
      "                                                                 \n",
      " dense (Dense)               (None, 512)               655872    \n",
      "                                                                 \n",
      " batch_normalization_1 (Batc  (None, 512)              2048      \n",
      " hNormalization)                                                 \n",
      "                                                                 \n",
      " dropout_1 (Dropout)         (None, 512)               0         \n",
      "                                                                 \n",
      " dense_1 (Dense)             (None, 256)               131328    \n",
      "                                                                 \n",
      " batch_normalization_2 (Batc  (None, 256)              1024      \n",
      " hNormalization)                                                 \n",
      "                                                                 \n",
      " dropout_2 (Dropout)         (None, 256)               0         \n",
      "                                                                 \n",
      " dense_2 (Dense)             (None, 8)                 2056      \n",
      "                                                                 \n",
      "=================================================================\n",
      "Total params: 4,847,019\n",
      "Trainable params: 793,352\n",
      "Non-trainable params: 4,053,667\n",
      "_________________________________________________________________\n"
     ]
    }
   ],
   "source": [
    "# Build EfficientNet transfer learning model\n",
    "def create_efficientnet_model(num_classes):\n",
    "    \"\"\"EfficientNet-based transfer learning model\"\"\"\n",
    "    \n",
    "    # Load pre-trained EfficientNetB0\n",
    "    base_model = EfficientNetB0(\n",
    "        weights='imagenet',\n",
    "        include_top=False,\n",
    "        input_shape=IMG_SIZE + (3,)\n",
    "    )\n",
    "    \n",
    "    # Freeze base model initially\n",
    "    base_model.trainable = False\n",
    "    \n",
    "    # Add custom top layers\n",
    "    model = models.Sequential([\n",
    "        base_model,\n",
    "        layers.GlobalAveragePooling2D(),\n",
    "        layers.BatchNormalization(),\n",
    "        layers.Dropout(0.5),\n",
    "        layers.Dense(512, activation='relu'),\n",
    "        layers.BatchNormalization(),\n",
    "        layers.Dropout(0.3),\n",
    "        layers.Dense(256, activation='relu'),\n",
    "        layers.BatchNormalization(),\n",
    "        layers.Dropout(0.3),\n",
    "        layers.Dense(num_classes, activation='softmax')\n",
    "    ])\n",
    "    \n",
    "    return model, base_model\n",
    "\n",
    "# Create Model 2\n",
    "model2, base_model = create_efficientnet_model(n_classes)\n",
    "\n",
    "# Compile with higher learning rate for initial training\n",
    "model2.compile(\n",
    "    optimizer=optimizers.Adam(learning_rate=0.001),\n",
    "    loss='categorical_crossentropy',\n",
    "    metrics=['accuracy']\n",
    ")\n",
    "\n",
    "print(\"EfficientNet model structure:\")\n",
    "model2.summary()"
   ]
  },
  {
   "cell_type": "code",
   "execution_count": 6,
   "id": "91f2d95f-f002-432a-8f32-054ddacef8b4",
   "metadata": {},
   "outputs": [
    {
     "name": "stdout",
     "output_type": "stream",
     "text": [
      "Original class_weight_dict:\n",
      "{0: 0.22282449457954878, 1: 0.8431263858093127, 2: 4.370689655172414, 3: 2.9823529411764707, 4: 2.3472222222222223, 5: 3.0542168674698793, 6: 1.8064133016627077, 7: 2.197976878612717}\n",
      "\n",
      "Cleaned class_weight_dict:\n",
      "{0: 0.22282449457954878, 1: 0.8431263858093127, 2: 4.370689655172414, 3: 2.9823529411764707, 4: 2.3472222222222223, 5: 3.0542168674698793, 6: 1.8064133016627077, 7: 2.197976878612717}\n"
     ]
    }
   ],
   "source": [
    "# Convert class weights to regular Python floats to avoid serialization issues\n",
    "print(\"Original class_weight_dict:\")\n",
    "print(class_weight_dict)\n",
    "\n",
    "# Clean the class weight dictionary\n",
    "clean_class_weight_dict = {}\n",
    "for key, value in class_weight_dict.items():\n",
    "    if hasattr(value, 'numpy'):  # Check if it's a tensor\n",
    "        clean_class_weight_dict[key] = float(value.numpy())\n",
    "    elif isinstance(value, np.ndarray):  # Check if it's a numpy array\n",
    "        clean_class_weight_dict[key] = float(value)\n",
    "    else:\n",
    "        clean_class_weight_dict[key] = float(value)\n",
    "\n",
    "print(\"\\nCleaned class_weight_dict:\")\n",
    "print(clean_class_weight_dict)\n",
    "\n",
    "# Replace the original with the cleaned version\n",
    "class_weight_dict = clean_class_weight_dict"
   ]
  },
  {
   "cell_type": "code",
   "execution_count": 7,
   "id": "c6bf2d78-25b2-4a1c-b869-d80553493ff0",
   "metadata": {},
   "outputs": [
    {
     "name": "stdout",
     "output_type": "stream",
     "text": [
      "Phase 1: Training with frozen EfficientNet base...\n",
      "Epoch 1/15\n",
      "191/191 [==============================] - 34s 166ms/step - loss: 2.0989 - accuracy: 0.3585 - val_loss: 1.4847 - val_accuracy: 0.5613 - lr: 0.0010\n",
      "Epoch 2/15\n",
      "191/191 [==============================] - 31s 161ms/step - loss: 1.6935 - accuracy: 0.5122 - val_loss: 1.4821 - val_accuracy: 0.5613 - lr: 0.0010\n",
      "Epoch 3/15\n",
      "191/191 [==============================] - 31s 162ms/step - loss: 1.6496 - accuracy: 0.5253 - val_loss: 1.4816 - val_accuracy: 0.5613 - lr: 0.0010\n",
      "Epoch 4/15\n",
      "191/191 [==============================] - 33s 170ms/step - loss: 1.6059 - accuracy: 0.5394 - val_loss: 1.4907 - val_accuracy: 0.5613 - lr: 0.0010\n",
      "Epoch 5/15\n",
      "191/191 [==============================] - 32s 166ms/step - loss: 1.5715 - accuracy: 0.5452 - val_loss: 1.4782 - val_accuracy: 0.5613 - lr: 0.0010\n",
      "Epoch 6/15\n",
      "191/191 [==============================] - 32s 165ms/step - loss: 1.5596 - accuracy: 0.5449 - val_loss: 1.5023 - val_accuracy: 0.5613 - lr: 0.0010\n",
      "Phase 1 training completed!\n"
     ]
    }
   ],
   "source": [
    "\n",
    "# Emergency training without ModelCheckpoint (to isolate the issue)\n",
    "print(\"Phase 1: Training with frozen EfficientNet base...\")\n",
    "\n",
    "callbacks_phase1 = [\n",
    "    EarlyStopping(patience=5, restore_best_weights=True, monitor='val_accuracy'),\n",
    "    ReduceLROnPlateau(factor=0.3, patience=3, min_lr=1e-7, monitor='val_loss')\n",
    "    # ModelCheckpoint removed temporarily to avoid serialization issues\n",
    "]\n",
    "\n",
    "# Train phase 1\n",
    "EPOCHS_PHASE1 = 15\n",
    "history2_phase1 = model2.fit(\n",
    "    train_gen2,\n",
    "    validation_data=val_gen2,\n",
    "    epochs=EPOCHS_PHASE1,\n",
    "    callbacks=callbacks_phase1,\n",
    "    verbose=1\n",
    ")\n",
    "\n",
    "print(\"Phase 1 training completed!\")"
   ]
  },
  {
   "cell_type": "code",
   "execution_count": 8,
   "id": "1114a959-c09a-4263-8e87-060bd14a3e6b",
   "metadata": {},
   "outputs": [
    {
     "name": "stdout",
     "output_type": "stream",
     "text": [
      "Phase 2: Fine-tuning with unfrozen layers...\n",
      "Trainable layers: 11\n"
     ]
    }
   ],
   "source": [
    "# Phase 2 - Fine-tune with unfrozen layers\n",
    "print(\"Phase 2: Fine-tuning with unfrozen layers...\")\n",
    "\n",
    "# Unfreeze the top layers of the base model\n",
    "base_model.trainable = True\n",
    "\n",
    "# Fine-tune from this layer onwards\n",
    "fine_tune_at = len(base_model.layers) // 2\n",
    "\n",
    "# Freeze all the layers before fine_tune_at\n",
    "for layer in base_model.layers[:fine_tune_at]:\n",
    "    layer.trainable = False\n",
    "\n",
    "# Recompile with much lower learning rate\n",
    "model2.compile(\n",
    "    optimizer=optimizers.Adam(learning_rate=0.0001),  # Lower LR for fine-tuning\n",
    "    loss='categorical_crossentropy',\n",
    "    metrics=['accuracy']\n",
    ")\n",
    "\n",
    "print(f\"Trainable layers: {sum([layer.trainable for layer in model2.layers])}\")\n"
   ]
  },
  {
   "cell_type": "code",
   "execution_count": 10,
   "id": "09e0df42-1e69-451b-a260-ef0319eb8108",
   "metadata": {},
   "outputs": [
    {
     "name": "stdout",
     "output_type": "stream",
     "text": [
      "Epoch 1/20\n",
      "191/191 [==============================] - 32s 165ms/step - loss: 2.3215 - accuracy: 0.4502 - val_loss: 1.7609 - val_accuracy: 0.5752 - lr: 1.0000e-04\n",
      "Epoch 2/20\n",
      "191/191 [==============================] - 32s 167ms/step - loss: 2.1838 - accuracy: 0.4324 - val_loss: 1.6559 - val_accuracy: 0.5491 - lr: 1.0000e-04\n",
      "Epoch 3/20\n",
      "191/191 [==============================] - 32s 165ms/step - loss: 2.1134 - accuracy: 0.4147 - val_loss: 1.2290 - val_accuracy: 0.5759 - lr: 1.0000e-04\n",
      "Epoch 4/20\n",
      "191/191 [==============================] - 32s 170ms/step - loss: 2.0014 - accuracy: 0.4080 - val_loss: 1.9844 - val_accuracy: 0.1426 - lr: 1.0000e-04\n",
      "Epoch 5/20\n",
      "191/191 [==============================] - 32s 169ms/step - loss: 1.9767 - accuracy: 0.4098 - val_loss: 2.0238 - val_accuracy: 0.2071 - lr: 1.0000e-04\n",
      "Epoch 6/20\n",
      "191/191 [==============================] - 32s 166ms/step - loss: 1.9370 - accuracy: 0.4061 - val_loss: 2.3003 - val_accuracy: 0.1817 - lr: 1.0000e-04\n",
      "Epoch 7/20\n",
      "191/191 [==============================] - 32s 168ms/step - loss: 1.8675 - accuracy: 0.4126 - val_loss: 2.3181 - val_accuracy: 0.1787 - lr: 5.0000e-05\n",
      "Epoch 8/20\n",
      "191/191 [==============================] - 35s 183ms/step - loss: 1.8724 - accuracy: 0.4221 - val_loss: 2.0265 - val_accuracy: 0.2132 - lr: 5.0000e-05\n",
      "Epoch 9/20\n",
      "191/191 [==============================] - 32s 169ms/step - loss: 1.8127 - accuracy: 0.4344 - val_loss: 2.0944 - val_accuracy: 0.1794 - lr: 5.0000e-05\n",
      "Epoch 10/20\n",
      "191/191 [==============================] - 31s 164ms/step - loss: 1.7878 - accuracy: 0.4252 - val_loss: 2.2441 - val_accuracy: 0.1879 - lr: 2.5000e-05\n",
      "Epoch 11/20\n",
      "191/191 [==============================] - 32s 167ms/step - loss: 1.7772 - accuracy: 0.4375 - val_loss: 2.0541 - val_accuracy: 0.2124 - lr: 2.5000e-05\n",
      "Phase 2 fine-tuning completed!\n"
     ]
    }
   ],
   "source": [
    "# Train Phase 2 (Fine-tuning) - without ModelCheckpoint to avoid serialization issues\n",
    "callbacks_phase2 = [\n",
    "    EarlyStopping(patience=8, restore_best_weights=True, monitor='val_accuracy'),\n",
    "    ReduceLROnPlateau(factor=0.5, patience=3, min_lr=1e-8, monitor='val_loss')\n",
    "    # ModelCheckpoint removed to avoid serialization issues\n",
    "]\n",
    "\n",
    "EPOCHS_PHASE2 = 20\n",
    "history2_phase2 = model2.fit(\n",
    "    train_gen2,\n",
    "    validation_data=val_gen2,\n",
    "    epochs=EPOCHS_PHASE2,\n",
    "    callbacks=callbacks_phase2,\n",
    "    class_weight=class_weight_dict,\n",
    "    verbose=1\n",
    ")\n",
    "\n",
    "print(\"Phase 2 fine-tuning completed!\")"
   ]
  },
  {
   "cell_type": "code",
   "execution_count": 11,
   "id": "10fd6210-2db3-4d62-8a44-a2ef191f6ee4",
   "metadata": {},
   "outputs": [
    {
     "name": "stderr",
     "output_type": "stream",
     "text": [
      "WARNING:absl:Found untraced functions such as _jit_compiled_convolution_op, _jit_compiled_convolution_op, _jit_compiled_convolution_op, _jit_compiled_convolution_op, _jit_compiled_convolution_op while saving (showing 5 of 81). These functions will not be directly callable after loading.\n"
     ]
    },
    {
     "name": "stdout",
     "output_type": "stream",
     "text": [
      "INFO:tensorflow:Assets written to: efficientnet_transfer_model\\assets\n"
     ]
    },
    {
     "name": "stderr",
     "output_type": "stream",
     "text": [
      "INFO:tensorflow:Assets written to: efficientnet_transfer_model\\assets\n"
     ]
    },
    {
     "name": "stdout",
     "output_type": "stream",
     "text": [
      "Model weights saved!\n"
     ]
    }
   ],
   "source": [
    "# Save the final model manually after training\n",
    "try:\n",
    "    model2.save(\"efficientnet_transfer_model\", save_format='tf')\n",
    "    print(\"Model saved in SavedModel format!\")\n",
    "except:\n",
    "    model2.save_weights(\"efficientnet_model_weights.h5\")\n",
    "    print(\"Model weights saved!\")"
   ]
  },
  {
   "cell_type": "code",
   "execution_count": 12,
   "id": "2bc30ca5-6ef6-4cf9-aedc-a7fde3a6cc79",
   "metadata": {},
   "outputs": [
    {
     "data": {
      "image/png": "[encoded data removed]",
      "text/plain": [
       "<Figure size 1500x500 with 3 Axes>"
      ]
     },
     "metadata": {},
     "output_type": "display_data"
    }
   ],
   "source": [
    "#  Plot training history for Model 2\n",
    "plt.figure(figsize=(15, 5))\n",
    "\n",
    "# Combine histories from both phases\n",
    "total_epochs_phase1 = len(history2_phase1.history['loss'])\n",
    "total_epochs_phase2 = len(history2_phase2.history['loss'])\n",
    "\n",
    "combined_loss = history2_phase1.history['loss'] + history2_phase2.history['loss']\n",
    "combined_val_loss = history2_phase1.history['val_loss'] + history2_phase2.history['val_loss']\n",
    "combined_acc = history2_phase1.history['accuracy'] + history2_phase2.history['accuracy']\n",
    "combined_val_acc = history2_phase1.history['val_accuracy'] + history2_phase2.history['val_accuracy']\n",
    "\n",
    "epochs_range = range(total_epochs_phase1 + total_epochs_phase2)\n",
    "\n",
    "plt.subplot(1, 3, 1)\n",
    "plt.plot(epochs_range, combined_loss, label='Train Loss')\n",
    "plt.plot(epochs_range, combined_val_loss, label='Val Loss')\n",
    "plt.axvline(x=total_epochs_phase1, color='r', linestyle='--', alpha=0.7, label='Fine-tuning starts')\n",
    "plt.title('Model 2: Loss Curve')\n",
    "plt.xlabel('Epochs')\n",
    "plt.ylabel('Loss')\n",
    "plt.legend()\n",
    "\n",
    "plt.subplot(1, 3, 2)\n",
    "plt.plot(epochs_range, combined_acc, label='Train Acc')\n",
    "plt.plot(epochs_range, combined_val_acc, label='Val Acc')\n",
    "plt.axvline(x=total_epochs_phase1, color='r', linestyle='--', alpha=0.7, label='Fine-tuning starts')\n",
    "plt.title('Model 2: Accuracy Curve')\n",
    "plt.xlabel('Epochs')\n",
    "plt.ylabel('Accuracy')\n",
    "plt.legend()\n",
    "\n",
    "plt.subplot(1, 3, 3)\n",
    "plt.plot(range(total_epochs_phase2), history2_phase2.history['val_accuracy'], \n",
    "         label='Fine-tuning Val Acc', color='orange', linewidth=2)\n",
    "plt.title('Model 2: Fine-tuning Phase')\n",
    "plt.xlabel('Fine-tuning Epochs')\n",
    "plt.ylabel('Validation Accuracy')\n",
    "plt.legend()\n",
    "\n",
    "plt.tight_layout()\n",
    "plt.show()"
   ]
  },
  {
   "cell_type": "code",
   "execution_count": 15,
   "id": "6c1aaf46-d0ce-4185-9a8f-b3d8f42fca0a",
   "metadata": {},
   "outputs": [
    {
     "name": "stdout",
     "output_type": "stream",
     "text": [
      "Evaluating Model 2 on test set...\n",
      "41/41 [==============================] - 2s 40ms/step - loss: 1.2997 - accuracy: 0.5567\n",
      "==================================================\n",
      "MODEL 2 (EfficientNet) RESULTS\n",
      "==================================================\n",
      "Test Accuracy: 0.5567 (55.7%)\n",
      "Test Loss: 1.2997\n",
      "Improvement over baseline (~74.1%): -18.4%\n",
      "\n",
      "Training Progression:\n",
      "Phase 1 best validation accuracy: 0.5613\n",
      "Phase 2 best validation accuracy: 0.5759\n",
      "Final test accuracy: 0.5567\n"
     ]
    }
   ],
   "source": [
    "# Evaluate Model 2 on test set\n",
    "print(\"Evaluating Model 2 on test set...\")\n",
    "test_loss, test_acc = model2.evaluate(test_gen2, verbose=1)\n",
    "\n",
    "print(\"=\"*50)\n",
    "print(\"MODEL 2 (EfficientNet) RESULTS\")\n",
    "print(\"=\"*50)\n",
    "print(f\"Test Accuracy: {test_acc:.4f} ({test_acc*100:.1f}%)\")\n",
    "print(f\"Test Loss: {test_loss:.4f}\")\n",
    "print(f\"Improvement over baseline (~74.1%): {(test_acc-0.741)*100:+.1f}%\")\n",
    "\n",
    "# Training progression\n",
    "print(f\"\\nTraining Progression:\")\n",
    "print(f\"Phase 1 best validation accuracy: {max(history2_phase1.history['val_accuracy']):.4f}\")\n",
    "if 'history2_phase2' in locals():\n",
    "    print(f\"Phase 2 best validation accuracy: {max(history2_phase2.history['val_accuracy']):.4f}\")\n",
    "    print(f\"Final test accuracy: {test_acc:.4f}\")\n",
    "else:\n",
    "    print(\"Phase 2 not completed yet\")\n",
    "    print(f\"Current test accuracy: {test_acc:.4f}\")"
   ]
  },
  {
   "cell_type": "code",
   "execution_count": 16,
   "id": "fc06dd7d-1601-4b7f-b9db-4b2f1a23d9be",
   "metadata": {},
   "outputs": [
    {
     "name": "stderr",
     "output_type": "stream",
     "text": [
      "WARNING:absl:Found untraced functions such as _jit_compiled_convolution_op, _jit_compiled_convolution_op, _jit_compiled_convolution_op, _jit_compiled_convolution_op, _jit_compiled_convolution_op while saving (showing 5 of 81). These functions will not be directly callable after loading.\n"
     ]
    },
    {
     "name": "stdout",
     "output_type": "stream",
     "text": [
      "INFO:tensorflow:Assets written to: efficientnet_transfer_model\\assets\n"
     ]
    },
    {
     "name": "stderr",
     "output_type": "stream",
     "text": [
      "INFO:tensorflow:Assets written to: efficientnet_transfer_model\\assets\n"
     ]
    },
    {
     "name": "stdout",
     "output_type": "stream",
     "text": [
      "SavedModel failed: Unable to serialize [2.0896919 2.1128857 2.1081853] to JSON. Unrecognized type <class 'tensorflow.python.framework.ops.EagerTensor'>.\n",
      "Model weights saved as backup!\n"
     ]
    }
   ],
   "source": [
    "# Save the model\n",
    "try:\n",
    "    model2.save(\"efficientnet_transfer_model\", save_format='tf')\n",
    "    print(\"Model saved in SavedModel format!\")\n",
    "except Exception as e:\n",
    "    print(f\"SavedModel failed: {e}\")\n",
    "    try:\n",
    "        model2.save_weights(\"efficientnet_model_weights.h5\")\n",
    "        print(\"Model weights saved as backup!\")\n",
    "    except Exception as e2:\n",
    "        print(f\"Weight saving also failed: {e2}\")"
   ]
  },
  {
   "cell_type": "code",
   "execution_count": null,
   "id": "5d33fa92-83a1-4db0-8fe3-5440a1d0d64f",
   "metadata": {},
   "outputs": [],
   "source": []
  },
  {
   "cell_type": "code",
   "execution_count": null,
   "id": "ac6f225b-1706-4d48-8948-da24906693bb",
   "metadata": {},
   "outputs": [],
   "source": []
  },
  {
   "cell_type": "code",
   "execution_count": null,
   "id": "c8eb84e0-41a2-4ed4-b0fa-c0844eb58002",
   "metadata": {},
   "outputs": [],
   "source": []
  },
  {
   "cell_type": "code",
   "execution_count": null,
   "id": "10044c16-38f8-4a71-884d-8561b78c9189",
   "metadata": {},
   "outputs": [],
   "source": []
  },
  {
   "cell_type": "code",
   "execution_count": null,
   "id": "113934e7-b6e5-4f4d-a4af-cecd09d5517d",
   "metadata": {},
   "outputs": [],
   "source": []
  },
  {
   "cell_type": "code",
   "execution_count": null,
   "id": "4a1f850c-23f4-4c02-8e16-8fcb9bf1db4d",
   "metadata": {},
   "outputs": [],
   "source": []
  },
  {
   "cell_type": "code",
   "execution_count": null,
   "id": "912bddbf-fa36-40e2-84d0-cb546674671d",
   "metadata": {},
   "outputs": [],
   "source": []
  },
  {
   "cell_type": "code",
   "execution_count": null,
   "id": "74c06da2-e89d-40ca-ae82-47f1d3d3e58a",
   "metadata": {},
   "outputs": [],
   "source": []
  },
  {
   "cell_type": "code",
   "execution_count": null,
   "id": "eac2845b-4367-4e22-bc55-e8bc50eeaad9",
   "metadata": {},
   "outputs": [],
   "source": []
  }
 ],
 "metadata": {
  "kernelspec": {
   "display_name": "Python 3 (ipykernel)",
   "language": "python",
   "name": "python3"
  },
  "language_info": {
   "codemirror_mode": {
    "name": "ipython",
    "version": 3
   },
   "file_extension": ".py",
   "mimetype": "text/x-python",
   "name": "python",
   "nbconvert_exporter": "python",
   "pygments_lexer": "ipython3",
   "version": "3.11.13"
  }
 },
 "nbformat": 4,
 "nbformat_minor": 5
}
