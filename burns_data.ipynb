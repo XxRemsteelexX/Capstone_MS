{
 "cells": [
  {
   "cell_type": "code",
   "execution_count": 1,
   "id": "63b64e33-6454-465d-9287-7a019b8cc1fd",
   "metadata": {},
   "outputs": [
    {
     "name": "stdout",
     "output_type": "stream",
     "text": [
      "binary_label\n",
      "0    4876\n",
      "1    1023\n",
      "Name: count, dtype: int64\n",
      "                                               filepath           label  \\\n",
      "65    C:\\Users\\dabne\\.cache\\kagglehub\\datasets\\fares...  1_and_2_degree   \n",
      "5724  C:\\Users\\dabne\\.cache\\kagglehub\\datasets\\fares...      3rd_degree   \n",
      "2908  C:\\Users\\dabne\\.cache\\kagglehub\\datasets\\fares...  1_and_2_degree   \n",
      "4516  C:\\Users\\dabne\\.cache\\kagglehub\\datasets\\fares...  1_and_2_degree   \n",
      "763   C:\\Users\\dabne\\.cache\\kagglehub\\datasets\\fares...  1_and_2_degree   \n",
      "\n",
      "      binary_label  \n",
      "65               0  \n",
      "5724             1  \n",
      "2908             0  \n",
      "4516             0  \n",
      "763              0  \n"
     ]
    }
   ],
   "source": [
    "import os\n",
    "import pandas as pd\n",
    "import numpy as np\n",
    "import matplotlib.pyplot as plt\n",
    "from sklearn.model_selection import train_test_split\n",
    "import tensorflow as tf\n",
    "from tensorflow.keras.preprocessing.image import load_img, img_to_array\n",
    "from tensorflow.keras.utils import Sequence\n",
    "from tensorflow.keras import layers, models, callbacks\n",
    "\n",
    "# Load CSVs\n",
    "df_1and2 = pd.read_csv('burns_1and2.csv')\n",
    "df_3 = pd.read_csv('burns_3rd.csv')\n",
    "\n",
    "# Assign labels: 0 = 1st/2nd degree (urgent care), 1 = 3rd degree (ER)\n",
    "df_1and2['binary_label'] = 0\n",
    "df_3['binary_label'] = 1\n",
    "\n",
    "# Combine\n",
    "df_all = pd.concat([df_1and2, df_3], ignore_index=True)\n",
    "print(df_all['binary_label'].value_counts())\n",
    "print(df_all.sample(5))\n"
   ]
  },
  {
   "cell_type": "code",
   "execution_count": 2,
   "id": "da8e09c9-de43-403b-8dd0-c18c2300449a",
   "metadata": {},
   "outputs": [
    {
     "name": "stdout",
     "output_type": "stream",
     "text": [
      "Train samples: 4719\n",
      "Validation samples: 1180\n"
     ]
    }
   ],
   "source": [
    "train_df, val_df = train_test_split(\n",
    "    df_all, test_size=0.2, stratify=df_all['binary_label'], random_state=42\n",
    ")\n",
    "print(\"Train samples:\", len(train_df))\n",
    "print(\"Validation samples:\", len(val_df))\n"
   ]
  },
  {
   "cell_type": "code",
   "execution_count": 3,
   "id": "e5a39536-233f-4461-8da0-248369679ea5",
   "metadata": {},
   "outputs": [
    {
     "name": "stdout",
     "output_type": "stream",
     "text": [
      "Class weights: {0: 0.6048449115611382, 1: 2.8844743276283618}\n"
     ]
    }
   ],
   "source": [
    "from sklearn.utils import class_weight\n",
    "import numpy as np\n",
    "\n",
    "# Compute class weights based on your training data\n",
    "y_train = train_df['binary_label'].values\n",
    "weights = class_weight.compute_class_weight(class_weight='balanced', classes=np.unique(y_train), y=y_train)\n",
    "class_weights = dict(enumerate(weights))\n",
    "\n",
    "print(\"Class weights:\", class_weights)\n"
   ]
  },
  {
   "cell_type": "code",
   "execution_count": 4,
   "id": "4cf00c5f-7679-4f5f-be13-42292171fe26",
   "metadata": {},
   "outputs": [],
   "source": [
    "IMG_SIZE = (224, 224)  # Change if you want higher/lower res\n",
    "BATCH_SIZE = 32\n",
    "\n",
    "class BurnDataGenerator(Sequence):\n",
    "    def __init__(self, df, batch_size=BATCH_SIZE, img_size=IMG_SIZE, shuffle=True):\n",
    "        self.df = df.reset_index(drop=True)\n",
    "        self.batch_size = batch_size\n",
    "        self.img_size = img_size\n",
    "        self.shuffle = shuffle\n",
    "        self.indexes = np.arange(len(self.df))\n",
    "        self.on_epoch_end()\n",
    "    \n",
    "    def __len__(self):\n",
    "        return int(np.ceil(len(self.df) / self.batch_size))\n",
    "    \n",
    "    def __getitem__(self, idx):\n",
    "        batch_indexes = self.indexes[idx * self.batch_size:(idx + 1) * self.batch_size]\n",
    "        batch_df = self.df.iloc[batch_indexes]\n",
    "        images = []\n",
    "        labels = []\n",
    "        for _, row in batch_df.iterrows():\n",
    "            img = load_img(row['filepath'], target_size=self.img_size)\n",
    "            img = img_to_array(img) / 255.0\n",
    "            images.append(img)\n",
    "            labels.append(row['binary_label'])\n",
    "        return np.array(images), np.array(labels)\n",
    "    \n",
    "    def on_epoch_end(self):\n",
    "        if self.shuffle:\n",
    "            np.random.shuffle(self.indexes)\n",
    "\n",
    "# Instantiate the generators (AFTER split!)\n",
    "train_gen = BurnDataGenerator(train_df, batch_size=BATCH_SIZE, img_size=IMG_SIZE)\n",
    "val_gen = BurnDataGenerator(val_df, batch_size=BATCH_SIZE, img_size=IMG_SIZE, shuffle=False)\n"
   ]
  },
  {
   "cell_type": "code",
   "execution_count": 5,
   "id": "c13b9d9b-727a-4e76-9739-8f07636cad93",
   "metadata": {},
   "outputs": [
    {
     "name": "stdout",
     "output_type": "stream",
     "text": [
      "Model: \"sequential\"\n",
      "_________________________________________________________________\n",
      " Layer (type)                Output Shape              Param #   \n",
      "=================================================================\n",
      " conv2d (Conv2D)             (None, 222, 222, 32)      896       \n",
      "                                                                 \n",
      " max_pooling2d (MaxPooling2D  (None, 111, 111, 32)     0         \n",
      " )                                                               \n",
      "                                                                 \n",
      " conv2d_1 (Conv2D)           (None, 109, 109, 64)      18496     \n",
      "                                                                 \n",
      " max_pooling2d_1 (MaxPooling  (None, 54, 54, 64)       0         \n",
      " 2D)                                                             \n",
      "                                                                 \n",
      " conv2d_2 (Conv2D)           (None, 52, 52, 128)       73856     \n",
      "                                                                 \n",
      " max_pooling2d_2 (MaxPooling  (None, 26, 26, 128)      0         \n",
      " 2D)                                                             \n",
      "                                                                 \n",
      " flatten (Flatten)           (None, 86528)             0         \n",
      "                                                                 \n",
      " dense (Dense)               (None, 64)                5537856   \n",
      "                                                                 \n",
      " dense_1 (Dense)             (None, 1)                 65        \n",
      "                                                                 \n",
      "=================================================================\n",
      "Total params: 5,631,169\n",
      "Trainable params: 5,631,169\n",
      "Non-trainable params: 0\n",
      "_________________________________________________________________\n"
     ]
    }
   ],
   "source": [
    "model = models.Sequential([\n",
    "    layers.Input(shape=(*IMG_SIZE, 3)),\n",
    "    layers.Conv2D(32, 3, activation='relu'),\n",
    "    layers.MaxPooling2D(),\n",
    "    layers.Conv2D(64, 3, activation='relu'),\n",
    "    layers.MaxPooling2D(),\n",
    "    layers.Conv2D(128, 3, activation='relu'),\n",
    "    layers.MaxPooling2D(),\n",
    "    layers.Flatten(),\n",
    "    layers.Dense(64, activation='relu'),\n",
    "    layers.Dense(1, activation='sigmoid')  # Binary classification\n",
    "])\n",
    "\n",
    "model.compile(optimizer='adam', loss='binary_crossentropy', metrics=['accuracy'])\n",
    "model.summary()\n"
   ]
  },
  {
   "cell_type": "code",
   "execution_count": 6,
   "id": "5736fa1b-810b-4817-b658-710110c1b021",
   "metadata": {},
   "outputs": [
    {
     "name": "stdout",
     "output_type": "stream",
     "text": [
      "Epoch 1/10\n",
      "148/148 [==============================] - 9s 53ms/step - loss: 0.6685 - accuracy: 0.6446 - val_loss: 0.6470 - val_accuracy: 0.8195\n",
      "Epoch 2/10\n",
      "148/148 [==============================] - 8s 55ms/step - loss: 0.6142 - accuracy: 0.7455 - val_loss: 0.6752 - val_accuracy: 0.6703\n",
      "Epoch 3/10\n",
      "148/148 [==============================] - 8s 55ms/step - loss: 0.5257 - accuracy: 0.7165 - val_loss: 0.4578 - val_accuracy: 0.7873\n",
      "Epoch 4/10\n",
      "148/148 [==============================] - 8s 55ms/step - loss: 0.4755 - accuracy: 0.7345 - val_loss: 0.4051 - val_accuracy: 0.8093\n",
      "Epoch 5/10\n",
      "148/148 [==============================] - 8s 57ms/step - loss: 0.4566 - accuracy: 0.7624 - val_loss: 0.4416 - val_accuracy: 0.7703\n",
      "Epoch 6/10\n",
      "148/148 [==============================] - 8s 55ms/step - loss: 0.4459 - accuracy: 0.7807 - val_loss: 0.3672 - val_accuracy: 0.8534\n",
      "Epoch 7/10\n",
      "148/148 [==============================] - 8s 56ms/step - loss: 0.4266 - accuracy: 0.7987 - val_loss: 0.4278 - val_accuracy: 0.7983\n",
      "Epoch 8/10\n",
      "148/148 [==============================] - 9s 59ms/step - loss: 0.3843 - accuracy: 0.8356 - val_loss: 0.4425 - val_accuracy: 0.8025\n",
      "Epoch 9/10\n",
      "148/148 [==============================] - 9s 59ms/step - loss: 0.3363 - accuracy: 0.8489 - val_loss: 0.5307 - val_accuracy: 0.7915\n"
     ]
    }
   ],
   "source": [
    "history = model.fit(\n",
    "    train_gen,\n",
    "    validation_data=val_gen,\n",
    "    epochs=10,\n",
    "    class_weight=class_weights,  # This makes the model pay more attention to minority class!\n",
    "    callbacks=[callbacks.EarlyStopping(patience=3, restore_best_weights=True)]\n",
    ")\n",
    "\n"
   ]
  },
  {
   "cell_type": "code",
   "execution_count": 7,
   "id": "bd11dd78-6237-49db-806f-9391f3fbf8f2",
   "metadata": {},
   "outputs": [
    {
     "data": {
      "image/png": "[encoded data removed]",
      "text/plain": [
       "<Figure size 640x480 with 1 Axes>"
      ]
     },
     "metadata": {},
     "output_type": "display_data"
    }
   ],
   "source": [
    "plt.plot(history.history['accuracy'], label='train_acc')\n",
    "plt.plot(history.history['val_accuracy'], label='val_acc')\n",
    "plt.xlabel('Epoch')\n",
    "plt.ylabel('Accuracy')\n",
    "plt.legend()\n",
    "plt.show()"
   ]
  },
  {
   "cell_type": "code",
   "execution_count": 8,
   "id": "d8b677c2-5bf0-403b-9b17-ab3c23be106d",
   "metadata": {},
   "outputs": [
    {
     "name": "stdout",
     "output_type": "stream",
     "text": [
      "37/37 [==============================] - 2s 46ms/step\n",
      "              precision    recall  f1-score   support\n",
      "\n",
      "           0       0.92      0.90      0.91       975\n",
      "           1       0.57      0.65      0.61       205\n",
      "\n",
      "    accuracy                           0.85      1180\n",
      "   macro avg       0.75      0.77      0.76      1180\n",
      "weighted avg       0.86      0.85      0.86      1180\n",
      "\n",
      "[[873 102]\n",
      " [ 71 134]]\n"
     ]
    }
   ],
   "source": [
    "val_preds = model.predict(val_gen) > 0.5\n",
    "from sklearn.metrics import classification_report, confusion_matrix\n",
    "print(classification_report(val_df['binary_label'], val_preds.astype(int)))\n",
    "print(confusion_matrix(val_df['binary_label'], val_preds.astype(int)))\n"
   ]
  },
  {
   "cell_type": "code",
   "execution_count": 10,
   "id": "1e04569c-657e-46a1-ac3d-7bdc082af86e",
   "metadata": {},
   "outputs": [],
   "source": [
    "model = tf.keras.models.load_model('burn_triage_cnn.h5')     # or\n",
    "\n",
    "\n"
   ]
  },
  {
   "cell_type": "code",
   "execution_count": 11,
   "id": "2a821238-4d93-4a08-98d4-bf63dba8daf6",
   "metadata": {},
   "outputs": [
    {
     "name": "stdout",
     "output_type": "stream",
     "text": [
      "\n",
      "--- Results at threshold 0.5 ---\n",
      "              precision    recall  f1-score   support\n",
      "\n",
      "           0       0.92      0.90      0.91       975\n",
      "           1       0.57      0.65      0.61       205\n",
      "\n",
      "    accuracy                           0.85      1180\n",
      "   macro avg       0.75      0.77      0.76      1180\n",
      "weighted avg       0.86      0.85      0.86      1180\n",
      "\n",
      "[[873 102]\n",
      " [ 71 134]]\n",
      "\n",
      "--- Results at threshold 0.4 ---\n",
      "              precision    recall  f1-score   support\n",
      "\n",
      "           0       0.92      0.90      0.91       975\n",
      "           1       0.57      0.65      0.61       205\n",
      "\n",
      "    accuracy                           0.85      1180\n",
      "   macro avg       0.75      0.77      0.76      1180\n",
      "weighted avg       0.86      0.85      0.86      1180\n",
      "\n",
      "[[873 102]\n",
      " [ 71 134]]\n",
      "\n",
      "--- Results at threshold 0.3 ---\n",
      "              precision    recall  f1-score   support\n",
      "\n",
      "           0       0.92      0.90      0.91       975\n",
      "           1       0.57      0.65      0.61       205\n",
      "\n",
      "    accuracy                           0.85      1180\n",
      "   macro avg       0.75      0.77      0.76      1180\n",
      "weighted avg       0.86      0.85      0.86      1180\n",
      "\n",
      "[[873 102]\n",
      " [ 71 134]]\n"
     ]
    }
   ],
   "source": [
    "# Try a lower threshold to boost recall for class 1\n",
    "for thresh in [0.5, 0.4, 0.3]:\n",
    "    print(f\"\\n--- Results at threshold {thresh} ---\")\n",
    "    val_preds_thresh = (val_preds > thresh).astype(int).flatten()\n",
    "    print(classification_report(val_df['binary_label'], val_preds_thresh))\n",
    "    print(confusion_matrix(val_df['binary_label'], val_preds_thresh))"
   ]
  },
  {
   "cell_type": "code",
   "execution_count": null,
   "id": "98e8fdeb-575d-4ce6-8036-30316cbeed1a",
   "metadata": {},
   "outputs": [],
   "source": []
  },
  {
   "cell_type": "code",
   "execution_count": null,
   "id": "bafb8b38-f5e4-4fef-bf62-9c94a8689749",
   "metadata": {},
   "outputs": [],
   "source": []
  },
  {
   "cell_type": "code",
   "execution_count": null,
   "id": "2d2e5bdc-492f-43f6-be89-f741205ca0ad",
   "metadata": {},
   "outputs": [],
   "source": []
  },
  {
   "cell_type": "code",
   "execution_count": null,
   "id": "59aadb29-559f-4d59-bdd1-0d4f4b6d45b0",
   "metadata": {},
   "outputs": [],
   "source": []
  },
  {
   "cell_type": "code",
   "execution_count": null,
   "id": "5d9f25f4-c0a8-450f-8813-aca5248bfb14",
   "metadata": {},
   "outputs": [],
   "source": []
  },
  {
   "cell_type": "code",
   "execution_count": null,
   "id": "c84dd46f-0f78-45a7-bc70-410c6defd02d",
   "metadata": {},
   "outputs": [],
   "source": []
  },
  {
   "cell_type": "code",
   "execution_count": null,
   "id": "bb373c0e-5a4a-4268-94ff-c0f737fa4b45",
   "metadata": {},
   "outputs": [],
   "source": []
  },
  {
   "cell_type": "code",
   "execution_count": null,
   "id": "34811fb7-54c7-408b-ad92-06c9edfb9aba",
   "metadata": {},
   "outputs": [],
   "source": []
  },
  {
   "cell_type": "code",
   "execution_count": null,
   "id": "a92627ff-86b3-4733-94df-24b7c759f127",
   "metadata": {},
   "outputs": [],
   "source": []
  },
  {
   "cell_type": "code",
   "execution_count": null,
   "id": "6e9203ba-e38d-4df5-9cfd-c973a70bb042",
   "metadata": {},
   "outputs": [],
   "source": []
  },
  {
   "cell_type": "code",
   "execution_count": null,
   "id": "8002c5e1-507c-4b72-9961-8078a78fe0b4",
   "metadata": {},
   "outputs": [],
   "source": []
  },
  {
   "cell_type": "code",
   "execution_count": null,
   "id": "10ff65f3-3794-440d-bcec-0b3af4ee65d5",
   "metadata": {},
   "outputs": [],
   "source": []
  },
  {
   "cell_type": "code",
   "execution_count": null,
   "id": "2ac19eac-c7ad-45a3-a27c-c32024f0bc4d",
   "metadata": {},
   "outputs": [],
   "source": []
  },
  {
   "cell_type": "code",
   "execution_count": null,
   "id": "3058fd9b-909c-4816-9819-8f969411a371",
   "metadata": {},
   "outputs": [],
   "source": []
  },
  {
   "cell_type": "code",
   "execution_count": null,
   "id": "5d9820fa-275a-46ea-9c39-23c0020a96ed",
   "metadata": {},
   "outputs": [],
   "source": []
  },
  {
   "cell_type": "code",
   "execution_count": null,
   "id": "dba49130-d840-4c34-961c-a79c68c8c693",
   "metadata": {},
   "outputs": [],
   "source": []
  },
  {
   "cell_type": "code",
   "execution_count": null,
   "id": "dffc632b-5c37-45b6-a7f3-d9b40d034bc2",
   "metadata": {},
   "outputs": [],
   "source": []
  }
 ],
 "metadata": {
  "kernelspec": {
   "display_name": "Python 3 (ipykernel)",
   "language": "python",
   "name": "python3"
  },
  "language_info": {
   "codemirror_mode": {
    "name": "ipython",
    "version": 3
   },
   "file_extension": ".py",
   "mimetype": "text/x-python",
   "name": "python",
   "nbconvert_exporter": "python",
   "pygments_lexer": "ipython3",
   "version": "3.11.13"
  }
 },
 "nbformat": 4,
 "nbformat_minor": 5
}
