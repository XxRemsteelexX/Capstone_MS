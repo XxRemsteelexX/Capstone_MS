{
 "cells": [
  {
   "cell_type": "code",
   "execution_count": 1,
   "id": "c7178ec3-a225-4f13-a30f-54aa5f82c47c",
   "metadata": {},
   "outputs": [],
   "source": [
    "# MODEL 1: ENHANCED CNN WITH CLASS-SPECIFIC AUGMENTATION\n",
    "import pandas as pd\n",
    "import numpy as np\n",
    "from sklearn.model_selection import train_test_split\n",
    "from sklearn.utils.class_weight import compute_class_weight\n",
    "from tensorflow.keras.preprocessing.image import ImageDataGenerator\n",
    "from tensorflow.keras import layers, models, optimizers\n",
    "from tensorflow.keras.callbacks import EarlyStopping, ReduceLROnPlateau\n",
    "import tensorflow as tf\n",
    "import matplotlib.pyplot as plt\n",
    "df = pd.read_csv(\"urgent_care_images_master_final.csv\")"
   ]
  },
  {
   "cell_type": "code",
   "execution_count": 2,
   "id": "b1c16268-dd2c-44b3-bfc2-b67f2d851138",
   "metadata": {},
   "outputs": [
    {
     "name": "stdout",
     "output_type": "stream",
     "text": [
      "Train: (6084, 2)\n",
      "Val: (1304, 2)\n",
      "Test: (1304, 2)\n"
     ]
    }
   ],
   "source": [
    "# Stratified split (same as before)\n",
    "train_df, temp_df = train_test_split(\n",
    "    df, test_size=0.3, stratify=df['label'], random_state=42\n",
    ")\n",
    "val_df, test_df = train_test_split(\n",
    "    temp_df, test_size=0.5, stratify=temp_df['label'], random_state=42\n",
    ")\n",
    "\n",
    "print(\"Train:\", train_df.shape)\n",
    "print(\"Val:\", val_df.shape)\n",
    "print(\"Test:\", test_df.shape)"
   ]
  },
  {
   "cell_type": "code",
   "execution_count": 3,
   "id": "996de927-2262-4e72-8bad-84da3f015821",
   "metadata": {},
   "outputs": [
    {
     "name": "stdout",
     "output_type": "stream",
     "text": [
      "All classes: ['burn_1and2', 'burn_3rd', 'wound_abrasions', 'wound_bruises', 'wound_diabetic_wounds', 'wound_laceration', 'wound_pressure_wounds', 'wound_venous_wounds']\n"
     ]
    }
   ],
   "source": [
    "# Define unified class order\n",
    "all_classes = sorted(df['label'].unique())\n",
    "print(\"All classes:\", all_classes)\n",
    "\n"
   ]
  },
  {
   "cell_type": "code",
   "execution_count": 4,
   "id": "f30aa3ed-b3ad-4821-9fb2-0e3ab5b77ea9",
   "metadata": {},
   "outputs": [
    {
     "name": "stdout",
     "output_type": "stream",
     "text": [
      "Class distribution in training set:\n",
      "label\n",
      "burn_1and2               3413\n",
      "burn_3rd                  902\n",
      "wound_pressure_wounds     421\n",
      "wound_venous_wounds       346\n",
      "wound_diabetic_wounds     324\n",
      "wound_bruises             255\n",
      "wound_laceration          249\n",
      "wound_abrasions           174\n",
      "Name: count, dtype: int64\n"
     ]
    }
   ],
   "source": [
    "#  Analyze class distribution\n",
    "print(\"Class distribution in training set:\")\n",
    "class_counts = train_df['label'].value_counts()\n",
    "print(class_counts)"
   ]
  },
  {
   "cell_type": "code",
   "execution_count": 5,
   "id": "146060af-c0d6-4d57-a16f-eca6e2bd2c8e",
   "metadata": {},
   "outputs": [
    {
     "name": "stdout",
     "output_type": "stream",
     "text": [
      "Class to index mapping: {'burn_1and2': 0, 'burn_3rd': 1, 'wound_abrasions': 2, 'wound_bruises': 3, 'wound_diabetic_wounds': 4, 'wound_laceration': 5, 'wound_pressure_wounds': 6, 'wound_venous_wounds': 7}\n",
      "\n",
      "Class weights (fixed for Keras):\n",
      "Class 0 (burn_1and2): 0.22\n",
      "Class 1 (burn_3rd): 0.84\n",
      "Class 2 (wound_abrasions): 4.37\n",
      "Class 3 (wound_bruises): 2.98\n",
      "Class 4 (wound_diabetic_wounds): 2.35\n",
      "Class 5 (wound_laceration): 3.05\n",
      "Class 6 (wound_pressure_wounds): 1.81\n",
      "Class 7 (wound_venous_wounds): 2.20\n"
     ]
    }
   ],
   "source": [
    "\n",
    "# Calculate class weights\n",
    "class_weights = compute_class_weight(\n",
    "    'balanced',\n",
    "    classes=np.unique(train_df['label']),\n",
    "    y=train_df['label']\n",
    ")\n",
    "\n",
    "# Create proper mapping for Keras \n",
    "class_to_index = {class_name: idx for idx, class_name in enumerate(all_classes)}\n",
    "print(\"Class to index mapping:\", class_to_index)\n",
    "\n",
    "# Convert class weights to use numeric indices \n",
    "class_weight_dict = {}\n",
    "for i, class_name in enumerate(all_classes):\n",
    "    # Find the weight for this class name\n",
    "    weight_idx = np.where(np.unique(train_df['label']) == class_name)[0][0]\n",
    "    class_weight_dict[i] = class_weights[weight_idx]\n",
    "\n",
    "print(\"\\nClass weights (fixed for Keras):\")\n",
    "for idx, weight in class_weight_dict.items():\n",
    "    print(f\"Class {idx} ({all_classes[idx]}): {weight:.2f}\")\n"
   ]
  },
  {
   "cell_type": "code",
   "execution_count": 6,
   "id": "6dac1b8a-3d37-48b9-9fe4-c821792054a8",
   "metadata": {},
   "outputs": [
    {
     "name": "stdout",
     "output_type": "stream",
     "text": [
      "Majority threshold: 760 samples\n",
      "Minority classes: ['wound_pressure_wounds', 'wound_venous_wounds', 'wound_diabetic_wounds', 'wound_bruises', 'wound_laceration', 'wound_abrasions']\n",
      "Majority classes: ['burn_1and2', 'burn_3rd']\n"
     ]
    }
   ],
   "source": [
    "#  Set up constants and identify minority/majority classes\n",
    "IMG_SIZE = (224, 224)\n",
    "BATCH_SIZE = 32\n",
    "\n",
    "# Define majority/minority for class-specific augmentation\n",
    "majority_threshold = class_counts.mean()\n",
    "minority_classes = class_counts[class_counts < majority_threshold].index\n",
    "majority_classes = class_counts[class_counts >= majority_threshold].index\n",
    "\n",
    "print(f\"Majority threshold: {majority_threshold:.0f} samples\")\n",
    "print(f\"Minority classes: {list(minority_classes)}\")\n",
    "print(f\"Majority classes: {list(majority_classes)}\")"
   ]
  },
  {
   "cell_type": "code",
   "execution_count": 7,
   "id": "3b737244-02f3-437c-a88e-3c0a6ea6e6b8",
   "metadata": {},
   "outputs": [
    {
     "name": "stdout",
     "output_type": "stream",
     "text": [
      "Minority samples: 1769\n",
      "Majority samples: 4315\n"
     ]
    }
   ],
   "source": [
    "# Split data by class frequency\n",
    "minority_df = train_df[train_df['label'].isin(minority_classes)]\n",
    "majority_df = train_df[train_df['label'].isin(majority_classes)]\n",
    "\n",
    "print(f\"Minority samples: {len(minority_df)}\")\n",
    "print(f\"Majority samples: {len(majority_df)}\")"
   ]
  },
  {
   "cell_type": "code",
   "execution_count": 8,
   "id": "c379c4d2-901d-430f-a17e-e1b9d910fd60",
   "metadata": {},
   "outputs": [
    {
     "name": "stdout",
     "output_type": "stream",
     "text": [
      "Data generators created!\n"
     ]
    }
   ],
   "source": [
    "# Create augmentation generators\n",
    "# Strong augmentation for minority classes \n",
    "strong_datagen = ImageDataGenerator(\n",
    "    rescale=1./255,\n",
    "    rotation_range=30,\n",
    "    width_shift_range=0.2,\n",
    "    height_shift_range=0.2,\n",
    "    zoom_range=0.2,\n",
    "    horizontal_flip=True,\n",
    "    vertical_flip=True,\n",
    "    brightness_range=[0.8, 1.2],\n",
    "    shear_range=0.15,\n",
    "    fill_mode='nearest'\n",
    ")\n",
    "\n",
    "# Moderate augmentation for majority classes\n",
    "moderate_datagen = ImageDataGenerator(\n",
    "    rescale=1./255,\n",
    "    rotation_range=15,\n",
    "    width_shift_range=0.1,\n",
    "    height_shift_range=0.1,\n",
    "    zoom_range=0.1,\n",
    "    horizontal_flip=True,\n",
    "    brightness_range=[0.9, 1.1]\n",
    ")\n",
    "\n",
    "# Validation generator \n",
    "val_datagen = ImageDataGenerator(rescale=1./255)\n",
    "\n",
    "print(\"Data generators created!\")\n"
   ]
  },
  {
   "cell_type": "code",
   "execution_count": 9,
   "id": "b7f28c32-6b90-4783-bd45-1247ab533bcc",
   "metadata": {},
   "outputs": [
    {
     "name": "stdout",
     "output_type": "stream",
     "text": [
      "Found 1769 validated image filenames belonging to 8 classes.\n",
      "Found 4315 validated image filenames belonging to 8 classes.\n",
      "Found 1304 validated image filenames belonging to 8 classes.\n",
      "Found 1304 validated image filenames belonging to 8 classes.\n",
      "Minority generator created: 1769 samples\n",
      "Majority generator created: 4315 samples\n",
      "Validation generator created: 1304 samples\n",
      "Test generator created: 1304 samples\n"
     ]
    }
   ],
   "source": [
    "# Create the data generators for minority and majority classes\n",
    "minority_gen = strong_datagen.flow_from_dataframe(\n",
    "    minority_df,\n",
    "    directory=None,  # Since full paths are in filepath column\n",
    "    x_col='filepath',  # Changed from 'filename' to 'filepath'\n",
    "    y_col='label',\n",
    "    target_size=IMG_SIZE,\n",
    "    batch_size=BATCH_SIZE // 2,  # Half batch for minority\n",
    "    class_mode='categorical',\n",
    "    classes=all_classes,\n",
    "    shuffle=True\n",
    ")\n",
    "\n",
    "majority_gen = moderate_datagen.flow_from_dataframe(\n",
    "    majority_df,\n",
    "    directory=None,  # Since full paths are in filepath column\n",
    "    x_col='filepath',  # Changed from 'filename' to 'filepath'\n",
    "    y_col='label',\n",
    "    target_size=IMG_SIZE,\n",
    "    batch_size=BATCH_SIZE // 2,  # Half batch for majority\n",
    "    class_mode='categorical',\n",
    "    classes=all_classes,\n",
    "    shuffle=True\n",
    ")\n",
    "\n",
    "# Create validation generator\n",
    "val_gen = val_datagen.flow_from_dataframe(\n",
    "    val_df,\n",
    "    directory=None,  # Since full paths are in filepath column\n",
    "    x_col='filepath',  # Changed from 'filename' to 'filepath'\n",
    "    y_col='label',\n",
    "    target_size=IMG_SIZE,\n",
    "    batch_size=BATCH_SIZE,\n",
    "    class_mode='categorical',\n",
    "    classes=all_classes,\n",
    "    shuffle=False\n",
    ")\n",
    "\n",
    "# Create test generator\n",
    "test_gen = val_datagen.flow_from_dataframe(\n",
    "    test_df,\n",
    "    directory=None,  # Since full paths are in filepath column\n",
    "    x_col='filepath',  # Changed from 'filename' to 'filepath'\n",
    "    y_col='label',\n",
    "    target_size=IMG_SIZE,\n",
    "    batch_size=BATCH_SIZE,\n",
    "    class_mode='categorical',\n",
    "    classes=all_classes,\n",
    "    shuffle=False\n",
    ")\n",
    "\n",
    "print(f\"Minority generator created: {minority_df.shape[0]} samples\")\n",
    "print(f\"Majority generator created: {majority_df.shape[0]} samples\")\n",
    "print(f\"Validation generator created: {val_df.shape[0]} samples\")\n",
    "print(f\"Test generator created: {test_df.shape[0]} samples\")"
   ]
  },
  {
   "cell_type": "code",
   "execution_count": 10,
   "id": "40a62a4e-2a04-400d-a803-622f119a7842",
   "metadata": {},
   "outputs": [],
   "source": [
    "# Custom generator to combine minority and majority batches\n",
    "def combine_generators(gen1, gen2):\n",
    "    while True:\n",
    "        batch1 = next(gen1)\n",
    "        batch2 = next(gen2)\n",
    "        # Combine the batches\n",
    "        combined_images = np.vstack([batch1[0], batch2[0]])\n",
    "        combined_labels = np.vstack([batch1[1], batch2[1]])\n",
    "        yield combined_images, combined_labels\n",
    "\n",
    "# Create combined generator\n",
    "train_gen_combined = combine_generators(minority_gen, majority_gen)"
   ]
  },
  {
   "cell_type": "code",
   "execution_count": 11,
   "id": "fb3d3b2e-58af-4b4c-b535-4b6284ac6bca",
   "metadata": {},
   "outputs": [
    {
     "name": "stdout",
     "output_type": "stream",
     "text": [
      "Model: \"sequential\"\n",
      "_________________________________________________________________\n",
      " Layer (type)                Output Shape              Param #   \n",
      "=================================================================\n",
      " efficientnetb0 (Functional)  (None, 7, 7, 1280)       4049571   \n",
      "                                                                 \n",
      " global_average_pooling2d (G  (None, 1280)             0         \n",
      " lobalAveragePooling2D)                                          \n",
      "                                                                 \n",
      " dense (Dense)               (None, 256)               327936    \n",
      "                                                                 \n",
      " dropout (Dropout)           (None, 256)               0         \n",
      "                                                                 \n",
      " dense_1 (Dense)             (None, 8)                 2056      \n",
      "                                                                 \n",
      "=================================================================\n",
      "Total params: 4,379,563\n",
      "Trainable params: 329,992\n",
      "Non-trainable params: 4,049,571\n",
      "_________________________________________________________________\n",
      "None\n"
     ]
    }
   ],
   "source": [
    "# Build the model\n",
    "from tensorflow.keras.applications import EfficientNetB0\n",
    "from tensorflow.keras.layers import GlobalAveragePooling2D, Dense, Dropout\n",
    "\n",
    "# Create base model\n",
    "base_model = EfficientNetB0(\n",
    "    weights='imagenet',\n",
    "    include_top=False,\n",
    "    input_shape=(224, 224, 3)\n",
    ")\n",
    "\n",
    "# Freeze base model layers initially\n",
    "base_model.trainable = False\n",
    "\n",
    "# Build the model\n",
    "model1 = models.Sequential([\n",
    "    base_model,\n",
    "    GlobalAveragePooling2D(),\n",
    "    Dense(256, activation='relu'),\n",
    "    Dropout(0.5),\n",
    "    Dense(len(all_classes), activation='softmax')  # 8 classes\n",
    "])\n",
    "\n",
    "# Compile the model\n",
    "model1.compile(\n",
    "    optimizer=optimizers.Adam(learning_rate=0.001),\n",
    "    loss='categorical_crossentropy',\n",
    "    metrics=['accuracy']\n",
    ")\n",
    "\n",
    "print(model1.summary())"
   ]
  },
  {
   "cell_type": "code",
   "execution_count": 12,
   "id": "c558cef6-cc62-4d9d-adc8-e708ad02123e",
   "metadata": {},
   "outputs": [
    {
     "name": "stdout",
     "output_type": "stream",
     "text": [
      "Epoch 1/25\n",
      "269/269 [==============================] - 46s 164ms/step - loss: 3.0190 - accuracy: 0.0877 - val_loss: 2.4501 - val_accuracy: 0.0695 - lr: 0.0010\n",
      "Epoch 2/25\n",
      "269/269 [==============================] - 41s 155ms/step - loss: 2.9805 - accuracy: 0.0878 - val_loss: 2.5125 - val_accuracy: 0.0273 - lr: 0.0010\n",
      "Epoch 3/25\n",
      "269/269 [==============================] - 42s 156ms/step - loss: 2.9750 - accuracy: 0.0780 - val_loss: 2.5105 - val_accuracy: 0.0523 - lr: 0.0010\n",
      "Epoch 4/25\n",
      "269/269 [==============================] - 42s 156ms/step - loss: 2.9816 - accuracy: 0.0957 - val_loss: 2.5438 - val_accuracy: 0.0555 - lr: 0.0010\n",
      "Epoch 5/25\n",
      "269/269 [==============================] - 42s 157ms/step - loss: 2.9732 - accuracy: 0.0902 - val_loss: 2.4713 - val_accuracy: 0.0398 - lr: 5.0000e-04\n",
      "Epoch 6/25\n",
      "269/269 [==============================] - 42s 157ms/step - loss: 2.9755 - accuracy: 0.0878 - val_loss: 2.5005 - val_accuracy: 0.0398 - lr: 5.0000e-04\n"
     ]
    }
   ],
   "source": [
    "callbacks = [\n",
    "    EarlyStopping(patience=5, restore_best_weights=True, monitor='val_accuracy'),\n",
    "    ReduceLROnPlateau(factor=0.5, patience=3, min_lr=1e-7, monitor='val_loss')\n",
    "]\n",
    "\n",
    "steps_per_epoch = max(len(minority_df), len(majority_df)) // (BATCH_SIZE // 2)\n",
    "validation_steps = len(val_df) // BATCH_SIZE\n",
    "\n",
    "EPOCHS = 25\n",
    "history1 = model1.fit(\n",
    "    train_gen_combined,\n",
    "    steps_per_epoch=steps_per_epoch,\n",
    "    validation_data=val_gen,\n",
    "    validation_steps=validation_steps,\n",
    "    epochs=EPOCHS,\n",
    "    callbacks=callbacks,\n",
    "    class_weight=class_weight_dict,\n",
    "    verbose=1\n",
    ")\n"
   ]
  },
  {
   "cell_type": "code",
   "execution_count": 14,
   "id": "0ae4f675-abcd-4ef8-8a4c-13375ac2d1ac",
   "metadata": {},
   "outputs": [
    {
     "name": "stdout",
     "output_type": "stream",
     "text": [
      "Found 1304 validated image filenames belonging to 8 classes.\n",
      "41/41 [==============================] - 2s 38ms/step - loss: 2.4458 - accuracy: 0.0690\n",
      "Model 1 Test Accuracy: 0.0690\n",
      "Model 1 weights saved!\n"
     ]
    }
   ],
   "source": [
    "#  Evaluate Model 1\n",
    "test_datagen = ImageDataGenerator(rescale=1./255)\n",
    "test_gen = test_datagen.flow_from_dataframe(\n",
    "    test_df, x_col='filepath', y_col='label',\n",
    "    target_size=IMG_SIZE, batch_size=BATCH_SIZE,\n",
    "    class_mode='categorical', shuffle=False\n",
    ")\n",
    "\n",
    "loss1, acc1 = model1.evaluate(test_gen)\n",
    "print(f\"Model 1 Test Accuracy: {acc1:.4f}\")\n",
    "\n",
    "# Save the model\n",
    "model1.save_weights(\"enhanced_cnn_model_weights.h5\")\n",
    "print(\"Model 1 weights saved!\")\n",
    "\n"
   ]
  },
  {
   "cell_type": "code",
   "execution_count": 15,
   "id": "1a34c887-04a8-4134-b156-a7b590712d0b",
   "metadata": {},
   "outputs": [
    {
     "data": {
      "image/png": "[encoded data removed]",
      "text/plain": [
       "<Figure size 1200x400 with 2 Axes>"
      ]
     },
     "metadata": {},
     "output_type": "display_data"
    }
   ],
   "source": [
    "#  Plot training history for Model 1\n",
    "import matplotlib.pyplot as plt\n",
    "\n",
    "plt.figure(figsize=(12, 4))\n",
    "\n",
    "plt.subplot(1, 2, 1)\n",
    "plt.plot(history1.history['loss'], label='Train Loss')\n",
    "plt.plot(history1.history['val_loss'], label='Val Loss')\n",
    "plt.title('Model 1: Loss Curve')\n",
    "plt.xlabel('Epochs')\n",
    "plt.ylabel('Loss')\n",
    "plt.legend()\n",
    "\n",
    "plt.subplot(1, 2, 2)\n",
    "plt.plot(history1.history['accuracy'], label='Train Acc')\n",
    "plt.plot(history1.history['val_accuracy'], label='Val Acc')\n",
    "plt.title('Model 1: Accuracy Curve')\n",
    "plt.xlabel('Epochs')\n",
    "plt.ylabel('Accuracy')\n",
    "plt.legend()\n",
    "\n",
    "plt.tight_layout()\n",
    "plt.show()"
   ]
  },
  {
   "cell_type": "code",
   "execution_count": null,
   "id": "f18c2a94-acb6-4487-b13b-75a60d446c05",
   "metadata": {},
   "outputs": [],
   "source": []
  },
  {
   "cell_type": "code",
   "execution_count": null,
   "id": "10e07f68-092c-4b64-9b70-52119fab8849",
   "metadata": {},
   "outputs": [],
   "source": []
  },
  {
   "cell_type": "code",
   "execution_count": null,
   "id": "12bed23f-7a3c-46d2-92f3-d6005316caa2",
   "metadata": {},
   "outputs": [],
   "source": []
  },
  {
   "cell_type": "code",
   "execution_count": null,
   "id": "67b9430f-9d35-4ce9-860c-ec3b70a91d42",
   "metadata": {},
   "outputs": [],
   "source": []
  },
  {
   "cell_type": "code",
   "execution_count": null,
   "id": "c17ad54b-19e5-47cf-b8ec-c83e6d00242e",
   "metadata": {},
   "outputs": [],
   "source": []
  },
  {
   "cell_type": "code",
   "execution_count": null,
   "id": "7c5c7466-1661-4e1e-8aa6-160b02405ae4",
   "metadata": {},
   "outputs": [],
   "source": []
  },
  {
   "cell_type": "code",
   "execution_count": null,
   "id": "a84186ea-2fab-41fb-86a3-c42ce1fdfa21",
   "metadata": {},
   "outputs": [],
   "source": []
  },
  {
   "cell_type": "code",
   "execution_count": null,
   "id": "e9d75ed3-293e-488c-90ab-ae0c43d8edb2",
   "metadata": {},
   "outputs": [],
   "source": []
  },
  {
   "cell_type": "code",
   "execution_count": null,
   "id": "a8c4d996-1aaa-46fa-8e9d-414c57b61e6d",
   "metadata": {},
   "outputs": [],
   "source": []
  }
 ],
 "metadata": {
  "kernelspec": {
   "display_name": "Python 3 (ipykernel)",
   "language": "python",
   "name": "python3"
  },
  "language_info": {
   "codemirror_mode": {
    "name": "ipython",
    "version": 3
   },
   "file_extension": ".py",
   "mimetype": "text/x-python",
   "name": "python",
   "nbconvert_exporter": "python",
   "pygments_lexer": "ipython3",
   "version": "3.11.13"
  }
 },
 "nbformat": 4,
 "nbformat_minor": 5
}
